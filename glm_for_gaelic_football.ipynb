{
 "cells": [
  {
   "cell_type": "code",
   "execution_count": 1,
   "metadata": {},
   "outputs": [],
   "source": [
    "#!pip3 install pandas\n",
    "#!pip3 install numpy\n",
    "#!pip3 install seaborn\n",
    "#!pip3 install matplotlib\n",
    "#!pip3 install scipy\n",
    "#!pip3 install statsmodels\n",
    "\n",
    "%matplotlib inline\n",
    "import pandas as pd\n",
    "import numpy as np\n",
    "import seaborn as sns\n",
    "import matplotlib.pyplot as plt\n",
    "from scipy.stats import poisson, norm, ks_2samp\n",
    "import statsmodels.api as sm\n",
    "import statsmodels.formula.api as smf"
   ]
  },
  {
   "cell_type": "markdown",
   "metadata": {},
   "source": [
    "In this blog post (also available via [my website](https://paulminogue.com/)) I will describe how we can use our understanding of the normal and poisson probability distributions to simulate gaelic football matches for Dublin's division 1 adult football league and determine the probability of either team winning the match.\n",
    "\n",
    "I will begin by briefly summarising the rules of the game and how we can download the data required from the [Dublin GAA's website](https://www.dublingaa.ie/). From here I will discuss the normal and poisson distributions and how they can be used to calculate expected goals and points in a given match. Finally I will bring it all together and demonstrate how we can use these distributions to simulate matches and calculate win probabilities."
   ]
  },
  {
   "cell_type": "markdown",
   "metadata": {},
   "source": [
    "# A brief summary of Gaelic football and it's scoring system \n",
    "\n",
    "In case you are reading this blog and have no knowledge of Gaelic football, I will attempt to briefly summarise the sport and it's scoring system so you will have all the information required to continue with this tutorial.\n",
    "\n",
    "Gaelic football is a sport where two teams of 15 play against each other to try accumalte the most points over the course of the match. Players can carry the ball with their hands but must bounce, or solo (drop the ball onto their foot and back up to their hand) every 4 steps. \n",
    "\n",
    "When it comes to scoring, teams can score in 2 ways:\n",
    "1. Kicking the ball into the net for a goal - this is worth 3 points\n",
    "2. Kicking or punching the ball over the crossbar for a point - this is worth one point\n",
    "\n",
    "If you wish to learn more about the rules of Gaelic football, you can do so [here](https://www.gaa.ie/the-gaa/rules-regulations/)"
   ]
  },
  {
   "cell_type": "markdown",
   "metadata": {},
   "source": [
    "# Import data \n",
    "\n",
    "The data used as part of this analysis was scraped from the latest results secton of the Dublin GAA website and contains results from all matches played in Dublin's senior adult division 1 league during the 2019 season. Rather than going into detail on this, as there is a lot to get through, I will summarise by saying that I essentially iterated through each row of the table on this website and pulled the scorelines for each match before saving them to the dataframe that I read in using pandas below.\n",
    "\n",
    "This dataframe contains the results of all 99 fixtures from the 2019 division 1 season. It's worth noting that this is a pretty small results dataset but it will be enough for us to use when building some simulation models.\n",
    "\n",
    "Once the data is read in, I create `total_goals` and `total_points` columns for each match. These columns will be used in the next section to understand how goals and points are distributed across games and will inform our modelling decisions later on.\n",
    "\n",
    "If you would like more detail on how the data was scraped, I have prepared a jupyter notebook which goes through the steps involved and it is available within the git repo supporting this tutorial."
   ]
  },
  {
   "cell_type": "code",
   "execution_count": 2,
   "metadata": {},
   "outputs": [
    {
     "data": {
      "text/html": [
       "<div>\n",
       "<style scoped>\n",
       "    .dataframe tbody tr th:only-of-type {\n",
       "        vertical-align: middle;\n",
       "    }\n",
       "\n",
       "    .dataframe tbody tr th {\n",
       "        vertical-align: top;\n",
       "    }\n",
       "\n",
       "    .dataframe thead th {\n",
       "        text-align: right;\n",
       "    }\n",
       "</style>\n",
       "<table border=\"1\" class=\"dataframe\">\n",
       "  <thead>\n",
       "    <tr style=\"text-align: right;\">\n",
       "      <th></th>\n",
       "      <th>date</th>\n",
       "      <th>time</th>\n",
       "      <th>location</th>\n",
       "      <th>home_team</th>\n",
       "      <th>home_team_goals</th>\n",
       "      <th>home_team_points</th>\n",
       "      <th>away_team</th>\n",
       "      <th>away_team_goals</th>\n",
       "      <th>away_team_points</th>\n",
       "      <th>game_id</th>\n",
       "      <th>total_goals</th>\n",
       "      <th>total_points</th>\n",
       "    </tr>\n",
       "  </thead>\n",
       "  <tbody>\n",
       "    <tr>\n",
       "      <th>0</th>\n",
       "      <td>09 Nov</td>\n",
       "      <td>14:00</td>\n",
       "      <td>Martin Savage Park</td>\n",
       "      <td>St Oliver Plunketts ER</td>\n",
       "      <td>3</td>\n",
       "      <td>13</td>\n",
       "      <td>Templeogue Synge Street</td>\n",
       "      <td>1</td>\n",
       "      <td>9</td>\n",
       "      <td>0</td>\n",
       "      <td>4</td>\n",
       "      <td>22</td>\n",
       "    </tr>\n",
       "    <tr>\n",
       "      <th>1</th>\n",
       "      <td>23 Oct</td>\n",
       "      <td>19:30</td>\n",
       "      <td>Lawless Park</td>\n",
       "      <td>Fingallians</td>\n",
       "      <td>3</td>\n",
       "      <td>19</td>\n",
       "      <td>Na Fianna</td>\n",
       "      <td>3</td>\n",
       "      <td>15</td>\n",
       "      <td>1</td>\n",
       "      <td>6</td>\n",
       "      <td>34</td>\n",
       "    </tr>\n",
       "    <tr>\n",
       "      <th>2</th>\n",
       "      <td>19 Oct</td>\n",
       "      <td>16:00</td>\n",
       "      <td>Dolphin Park</td>\n",
       "      <td>Templeogue Synge Street</td>\n",
       "      <td>1</td>\n",
       "      <td>12</td>\n",
       "      <td>Cuala</td>\n",
       "      <td>4</td>\n",
       "      <td>14</td>\n",
       "      <td>2</td>\n",
       "      <td>5</td>\n",
       "      <td>26</td>\n",
       "    </tr>\n",
       "    <tr>\n",
       "      <th>3</th>\n",
       "      <td>19 Oct</td>\n",
       "      <td>16:00</td>\n",
       "      <td>St Mobhi Road</td>\n",
       "      <td>Na Fianna</td>\n",
       "      <td>0</td>\n",
       "      <td>9</td>\n",
       "      <td>St Oliver Plunketts ER</td>\n",
       "      <td>1</td>\n",
       "      <td>12</td>\n",
       "      <td>3</td>\n",
       "      <td>1</td>\n",
       "      <td>21</td>\n",
       "    </tr>\n",
       "    <tr>\n",
       "      <th>4</th>\n",
       "      <td>05 Oct</td>\n",
       "      <td>16:00</td>\n",
       "      <td>Hyde Park</td>\n",
       "      <td>Cuala</td>\n",
       "      <td>7</td>\n",
       "      <td>11</td>\n",
       "      <td>St Maurs</td>\n",
       "      <td>1</td>\n",
       "      <td>5</td>\n",
       "      <td>4</td>\n",
       "      <td>8</td>\n",
       "      <td>16</td>\n",
       "    </tr>\n",
       "  </tbody>\n",
       "</table>\n",
       "</div>"
      ],
      "text/plain": [
       "     date   time            location                home_team  \\\n",
       "0  09 Nov  14:00  Martin Savage Park   St Oliver Plunketts ER   \n",
       "1  23 Oct  19:30        Lawless Park              Fingallians   \n",
       "2  19 Oct  16:00        Dolphin Park  Templeogue Synge Street   \n",
       "3  19 Oct  16:00       St Mobhi Road                Na Fianna   \n",
       "4  05 Oct  16:00           Hyde Park                    Cuala   \n",
       "\n",
       "   home_team_goals  home_team_points                away_team  \\\n",
       "0                3                13  Templeogue Synge Street   \n",
       "1                3                19                Na Fianna   \n",
       "2                1                12                    Cuala   \n",
       "3                0                 9   St Oliver Plunketts ER   \n",
       "4                7                11                 St Maurs   \n",
       "\n",
       "   away_team_goals  away_team_points  game_id  total_goals  total_points  \n",
       "0                1                 9        0            4            22  \n",
       "1                3                15        1            6            34  \n",
       "2                4                14        2            5            26  \n",
       "3                1                12        3            1            21  \n",
       "4                1                 5        4            8            16  "
      ]
     },
     "execution_count": 2,
     "metadata": {},
     "output_type": "execute_result"
    }
   ],
   "source": [
    "gaa_df = pd.read_pickle('data/dublin_gaa_results.pkl')\n",
    "\n",
    "# create a game_id columns\n",
    "gaa_df['game_id'] = gaa_df.index\n",
    "\n",
    "# lets create total goals and points columns so we can plot the distribution\n",
    "gaa_df['total_goals'] = gaa_df['home_team_goals'] + gaa_df['away_team_goals']\n",
    "gaa_df['total_points'] = gaa_df['home_team_points'] + gaa_df['away_team_points']\n",
    "gaa_df.head()"
   ]
  },
  {
   "cell_type": "markdown",
   "metadata": {},
   "source": [
    "# Understanding how goals and points are distributed \n",
    "\n",
    "Before we can get stuck into any modelling, we will have to take a look at how points and goals are distributed across matches. For example while expect that points will be distributed normally, it is important that we confirm this as if they are actually distributed according to a poisson distribution and we fit a model under the assumption that they are normally distributed, our simulation results will be extremely inaccurate.\n",
    "\n",
    "To do this we can use a goodness of fit test between the expected distribution, and the actual to determine if they differ significantly."
   ]
  },
  {
   "cell_type": "markdown",
   "metadata": {},
   "source": [
    "## Point distribution\n",
    "\n",
    "Taking a look at the distribution of points across games visualised below, we can see that the distribution is very similar to the normal distribution overlaid in red. Of course it does not match exactly, however given the reasonably small sample size of games, that is understandable.\n",
    "\n",
    "When we take a look at the goodness of fit test between the points distribution and the normal distribution, performed by using [scipy's ks_2samp function](https://docs.scipy.org/doc/scipy/reference/generated/scipy.stats.ks_2samp.html) we can see that the p-value is much greater than $0.05$ and as a result of this we can assume going forward that our points data is normally distributed."
   ]
  },
  {
   "cell_type": "markdown",
   "metadata": {},
   "source": [
    "### Normal distribution goodness of fit "
   ]
  },
  {
   "cell_type": "code",
   "execution_count": 3,
   "metadata": {},
   "outputs": [
    {
     "data": {
      "text/plain": [
       "Ks_2sampResult(statistic=0.0937287878787878, pvalue=0.34992454962173847)"
      ]
     },
     "execution_count": 3,
     "metadata": {},
     "output_type": "execute_result"
    }
   ],
   "source": [
    "mean_points = gaa_df['total_points'].mean()\n",
    "points_std = gaa_df['total_points'].std()\n",
    "normal_dist = np.random.normal(mean_points, points_std, 100000)\n",
    "\n",
    "ks_2samp(np.array(gaa_df['total_points']), normal_dist)"
   ]
  },
  {
   "cell_type": "markdown",
   "metadata": {},
   "source": [
    "### Visualise "
   ]
  },
  {
   "cell_type": "code",
   "execution_count": 4,
   "metadata": {},
   "outputs": [
    {
     "name": "stderr",
     "output_type": "stream",
     "text": [
      "<ipython-input-4-740e0142a289>:53: UserWarning: Matplotlib is currently using module://ipykernel.pylab.backend_inline, which is a non-GUI backend, so cannot show the figure.\n",
      "  fig.show()\n"
     ]
    },
    {
     "data": {
      "image/png": "[encoded data removed]",
      "text/plain": [
       "<Figure size 1476x756 with 1 Axes>"
      ]
     },
     "metadata": {
      "needs_background": "light"
     },
     "output_type": "display_data"
    }
   ],
   "source": [
    "viz_df = gaa_df.groupby('total_points')['game_id'].count().reset_index()\n",
    "viz_df.columns = ['total_points', 'number_of_matches']\n",
    "viz_df['proportion_of_points'] = viz_df['number_of_matches']/len(gaa_df)\n",
    "\n",
    "# point values we don't have data for that we need to add in\n",
    "missing_data_points = []\n",
    "for i in range(viz_df['total_points'].min(), viz_df['total_points'].max() +1):\n",
    "    if i not in list(viz_df['total_points']):\n",
    "        missing_data_points.append(\n",
    "            {\n",
    "                'total_points': i,\n",
    "                'number_of_matches':0,\n",
    "                'proportion_of_points':0\n",
    "            }        \n",
    "        )\n",
    "        \n",
    "missing_data = pd.DataFrame(missing_data_points)\n",
    "viz_df = pd.concat([viz_df, missing_data])\n",
    "viz_df = viz_df.sort_values(by='total_points').reset_index(drop=True)\n",
    "\n",
    "# generate points distributed according to a normal distribution to overlay\n",
    "mean_points = gaa_df['total_points'].mean()\n",
    "points_std = gaa_df['total_points'].std()\n",
    "normal_dist = pd.DataFrame({'total_points': list(np.random.normal(mean_points, points_std, 100000))}).reset_index()\n",
    "normal_dist['total_points'] = normal_dist['total_points'].astype(int)\n",
    "normal_dist = normal_dist.groupby('total_points')['index'].count().reset_index()\n",
    "normal_dist['proportion_of_points'] = normal_dist['index']/100000\n",
    "normal_dist = normal_dist.loc[normal_dist['total_points'].isin(viz_df['total_points'])]\n",
    "\n",
    "\n",
    "fig, ax = plt.subplots()\n",
    "fig.set_size_inches(20.5, 10.5)\n",
    "\n",
    "# plot the distribution and overlay\n",
    "ax = sns.barplot(\n",
    "    x='total_points', y='proportion_of_points', data=viz_df, color='deepskyblue'\n",
    ")\n",
    "\n",
    "ax = sns.lineplot(\n",
    "    x=ax.get_xticks(), y='proportion_of_points', data=normal_dist, color='red', linewidth=5\n",
    ")\n",
    "\n",
    "# Hide the right and top spines\n",
    "ax.spines['right'].set_visible(False)\n",
    "ax.spines['top'].set_visible(False)\n",
    "\n",
    "# set and format titles\n",
    "ax.set_title(\"Dublin senior football division 1 points scored with normal overlay\", fontdict={'fontsize':18, 'fontweight':'bold'})\n",
    "ax.set_xlabel(\"Number of points scored\", fontdict={'fontsize':12, 'fontweight':'bold'})\n",
    "ax.set_ylabel(\"Proportion of games\", fontdict={'fontsize':12, 'fontweight':'bold'})\n",
    "ax.set_xticklabels(ax.get_xticklabels(), size=14)\n",
    "plt.savefig('visuals/points_per_game.png')\n",
    "fig.show()"
   ]
  },
  {
   "cell_type": "markdown",
   "metadata": {},
   "source": [
    "## Goal distribution \n",
    "\n",
    "Conversely, when we take a look at our goal distribution we can seem that they appear to be distributed according to a poisson distribution, and in fact when we take a look at the goodness of fit test for this we can once again see a high p-value which indicates that goals are in fact distributed according to a poisson distribution.\n",
    "\n",
    "This comes as no surprise as occurrence of goals in similar, more widely researched sports such as soccer are also distributed according to a poisson distribution."
   ]
  },
  {
   "cell_type": "markdown",
   "metadata": {},
   "source": [
    "### Poisson goodness of fit"
   ]
  },
  {
   "cell_type": "code",
   "execution_count": 5,
   "metadata": {},
   "outputs": [
    {
     "data": {
      "text/plain": [
       "Ks_2sampResult(statistic=0.06953131313131311, pvalue=0.725358743958155)"
      ]
     },
     "execution_count": 5,
     "metadata": {},
     "output_type": "execute_result"
    }
   ],
   "source": [
    "mean_goals = gaa_df['total_goals'].mean()\n",
    "poisson_dist = poisson.rvs(mean_goals, size=100000)\n",
    "\n",
    "ks_2samp(np.array(gaa_df['total_goals']), poisson_dist)"
   ]
  },
  {
   "cell_type": "markdown",
   "metadata": {},
   "source": [
    "### Visualise "
   ]
  },
  {
   "cell_type": "code",
   "execution_count": 6,
   "metadata": {},
   "outputs": [
    {
     "name": "stderr",
     "output_type": "stream",
     "text": [
      "<ipython-input-6-88f8aed8eac4>:33: UserWarning: Matplotlib is currently using module://ipykernel.pylab.backend_inline, which is a non-GUI backend, so cannot show the figure.\n",
      "  fig.show()\n"
     ]
    },
    {
     "data": {
      "image/png": "[encoded data removed]",
      "text/plain": [
       "<Figure size 1476x756 with 1 Axes>"
      ]
     },
     "metadata": {
      "needs_background": "light"
     },
     "output_type": "display_data"
    }
   ],
   "source": [
    "viz_df = gaa_df.groupby('total_goals')['game_id'].count().reset_index()\n",
    "viz_df.columns = ['total_goals', 'number_of_matches']\n",
    "viz_df['proportion_of_goals'] = viz_df['number_of_matches']/len(gaa_df)\n",
    "\n",
    "# generate points distributed according to a poisson distribution to overlay\n",
    "mean_goals = gaa_df['total_goals'].mean()\n",
    "poisson_dist = pd.DataFrame({'goals_scored': list(poisson.rvs(mean_goals, size=100000))}).reset_index()\n",
    "poisson_dist = poisson_dist.groupby('goals_scored')['index'].count().reset_index()\n",
    "poisson_dist['proportion_of_goals'] = poisson_dist['index']/100000\n",
    "\n",
    "fig, ax = plt.subplots()\n",
    "fig.set_size_inches(20.5, 10.5)\n",
    "\n",
    "# plot the distribution and overlay\n",
    "ax = sns.barplot(\n",
    "    x='total_goals', y='proportion_of_goals', data=viz_df, color='deepskyblue'\n",
    ")\n",
    "\n",
    "ax = sns.lineplot(\n",
    "    x='goals_scored', y='proportion_of_goals', data=poisson_dist, color='red', linewidth=5, markers=True\n",
    ")\n",
    "\n",
    "# Hide the right and top spines\n",
    "ax.spines['right'].set_visible(False)\n",
    "ax.spines['top'].set_visible(False)\n",
    "\n",
    "# set and format titles\n",
    "ax.set_title(\"Dublin senior football division 1 goals scored with poisson overlay\", fontdict={'fontsize':18, 'fontweight':'bold'})\n",
    "ax.set_xlabel(\"Number of goals scored\", fontdict={'fontsize':12, 'fontweight':'bold'})\n",
    "ax.set_ylabel(\"Proportion of games\", fontdict={'fontsize':12, 'fontweight':'bold'})\n",
    "ax.set_xticklabels(ax.get_xticklabels(), size=14)\n",
    "plt.savefig('visuals/goals_per_game.png')\n",
    "fig.show()"
   ]
  },
  {
   "cell_type": "markdown",
   "metadata": {},
   "source": [
    "# Making some simple predictions for goals & points scored \n",
    "\n",
    "Now that we understand how goals and points are distributed, we can use this information to make some simple predictions of how many goals or points a team is expected to score in a given match using the cumulative mass (for normal distribution) and probability density (for poisson) functions."
   ]
  },
  {
   "cell_type": "markdown",
   "metadata": {},
   "source": [
    "## Some preliminary data preparation\n",
    "\n",
    "Before we get stuck into this, we will perform a bit of data transformation to get our GAA dataset into a format that will allow us to calculate each teams average goals and points a bit easier. \n",
    "\n",
    "To do this we will simply split the data into home and away dataframes and get each teams score as well as their opponents before adding an `at_home` flag which we will use a bit later for our more advanced model."
   ]
  },
  {
   "cell_type": "code",
   "execution_count": 7,
   "metadata": {},
   "outputs": [
    {
     "name": "stderr",
     "output_type": "stream",
     "text": [
      "<ipython-input-7-293470c25181>:9: SettingWithCopyWarning: \n",
      "A value is trying to be set on a copy of a slice from a DataFrame.\n",
      "Try using .loc[row_indexer,col_indexer] = value instead\n",
      "\n",
      "See the caveats in the documentation: https://pandas.pydata.org/pandas-docs/stable/user_guide/indexing.html#returning-a-view-versus-a-copy\n",
      "  home_df['at_home'] = 1\n",
      "<ipython-input-7-293470c25181>:10: SettingWithCopyWarning: \n",
      "A value is trying to be set on a copy of a slice from a DataFrame.\n",
      "Try using .loc[row_indexer,col_indexer] = value instead\n",
      "\n",
      "See the caveats in the documentation: https://pandas.pydata.org/pandas-docs/stable/user_guide/indexing.html#returning-a-view-versus-a-copy\n",
      "  away_df['at_home'] = 0\n"
     ]
    },
    {
     "data": {
      "text/html": [
       "<div>\n",
       "<style scoped>\n",
       "    .dataframe tbody tr th:only-of-type {\n",
       "        vertical-align: middle;\n",
       "    }\n",
       "\n",
       "    .dataframe tbody tr th {\n",
       "        vertical-align: top;\n",
       "    }\n",
       "\n",
       "    .dataframe thead th {\n",
       "        text-align: right;\n",
       "    }\n",
       "</style>\n",
       "<table border=\"1\" class=\"dataframe\">\n",
       "  <thead>\n",
       "    <tr style=\"text-align: right;\">\n",
       "      <th></th>\n",
       "      <th>game_id</th>\n",
       "      <th>date</th>\n",
       "      <th>time</th>\n",
       "      <th>location</th>\n",
       "      <th>team</th>\n",
       "      <th>team_goals</th>\n",
       "      <th>team_points</th>\n",
       "      <th>opponent</th>\n",
       "      <th>opponent_goals</th>\n",
       "      <th>opponent_points</th>\n",
       "      <th>at_home</th>\n",
       "    </tr>\n",
       "  </thead>\n",
       "  <tbody>\n",
       "    <tr>\n",
       "      <th>0</th>\n",
       "      <td>0</td>\n",
       "      <td>09 Nov</td>\n",
       "      <td>14:00</td>\n",
       "      <td>Martin Savage Park</td>\n",
       "      <td>St Oliver Plunketts ER</td>\n",
       "      <td>3</td>\n",
       "      <td>13</td>\n",
       "      <td>Templeogue Synge Street</td>\n",
       "      <td>1</td>\n",
       "      <td>9</td>\n",
       "      <td>1</td>\n",
       "    </tr>\n",
       "    <tr>\n",
       "      <th>1</th>\n",
       "      <td>1</td>\n",
       "      <td>23 Oct</td>\n",
       "      <td>19:30</td>\n",
       "      <td>Lawless Park</td>\n",
       "      <td>Fingallians</td>\n",
       "      <td>3</td>\n",
       "      <td>19</td>\n",
       "      <td>Na Fianna</td>\n",
       "      <td>3</td>\n",
       "      <td>15</td>\n",
       "      <td>1</td>\n",
       "    </tr>\n",
       "    <tr>\n",
       "      <th>2</th>\n",
       "      <td>2</td>\n",
       "      <td>19 Oct</td>\n",
       "      <td>16:00</td>\n",
       "      <td>Dolphin Park</td>\n",
       "      <td>Templeogue Synge Street</td>\n",
       "      <td>1</td>\n",
       "      <td>12</td>\n",
       "      <td>Cuala</td>\n",
       "      <td>4</td>\n",
       "      <td>14</td>\n",
       "      <td>1</td>\n",
       "    </tr>\n",
       "    <tr>\n",
       "      <th>3</th>\n",
       "      <td>3</td>\n",
       "      <td>19 Oct</td>\n",
       "      <td>16:00</td>\n",
       "      <td>St Mobhi Road</td>\n",
       "      <td>Na Fianna</td>\n",
       "      <td>0</td>\n",
       "      <td>9</td>\n",
       "      <td>St Oliver Plunketts ER</td>\n",
       "      <td>1</td>\n",
       "      <td>12</td>\n",
       "      <td>1</td>\n",
       "    </tr>\n",
       "    <tr>\n",
       "      <th>4</th>\n",
       "      <td>4</td>\n",
       "      <td>05 Oct</td>\n",
       "      <td>16:00</td>\n",
       "      <td>Hyde Park</td>\n",
       "      <td>Cuala</td>\n",
       "      <td>7</td>\n",
       "      <td>11</td>\n",
       "      <td>St Maurs</td>\n",
       "      <td>1</td>\n",
       "      <td>5</td>\n",
       "      <td>1</td>\n",
       "    </tr>\n",
       "  </tbody>\n",
       "</table>\n",
       "</div>"
      ],
      "text/plain": [
       "   game_id    date   time            location                     team  \\\n",
       "0        0  09 Nov  14:00  Martin Savage Park   St Oliver Plunketts ER   \n",
       "1        1  23 Oct  19:30        Lawless Park              Fingallians   \n",
       "2        2  19 Oct  16:00        Dolphin Park  Templeogue Synge Street   \n",
       "3        3  19 Oct  16:00       St Mobhi Road                Na Fianna   \n",
       "4        4  05 Oct  16:00           Hyde Park                    Cuala   \n",
       "\n",
       "   team_goals  team_points                 opponent  opponent_goals  \\\n",
       "0           3           13  Templeogue Synge Street               1   \n",
       "1           3           19                Na Fianna               3   \n",
       "2           1           12                    Cuala               4   \n",
       "3           0            9   St Oliver Plunketts ER               1   \n",
       "4           7           11                 St Maurs               1   \n",
       "\n",
       "   opponent_points  at_home  \n",
       "0                9        1  \n",
       "1               15        1  \n",
       "2               14        1  \n",
       "3               12        1  \n",
       "4                5        1  "
      ]
     },
     "execution_count": 7,
     "metadata": {},
     "output_type": "execute_result"
    }
   ],
   "source": [
    "home_df = gaa_df[[\n",
    "    'game_id', 'date', 'time', 'location', 'home_team', 'home_team_goals', 'home_team_points', 'away_team', 'away_team_goals', 'away_team_points'\n",
    "]]\n",
    "\n",
    "away_df = gaa_df[[\n",
    "    'game_id', 'date', 'time', 'location', 'away_team', 'away_team_goals', 'away_team_points', 'home_team', 'home_team_goals', 'home_team_points'\n",
    "]]\n",
    "\n",
    "home_df['at_home'] = 1\n",
    "away_df['at_home'] = 0\n",
    "\n",
    "home_df.columns = away_df.columns = [\n",
    "    'game_id', 'date', 'time', 'location', 'team', 'team_goals', 'team_points', \n",
    "    'opponent', 'opponent_goals', 'opponent_points', 'at_home'\n",
    "]\n",
    "\n",
    "team_results_df = pd.concat([home_df, away_df])\n",
    "team_results_df.head()"
   ]
  },
  {
   "cell_type": "markdown",
   "metadata": {},
   "source": [
    "Once we have the data in this format we can very easily calculate each teams average goals and points scored using a pandas aggregation."
   ]
  },
  {
   "cell_type": "code",
   "execution_count": 8,
   "metadata": {},
   "outputs": [
    {
     "data": {
      "text/html": [
       "<div>\n",
       "<style scoped>\n",
       "    .dataframe tbody tr th:only-of-type {\n",
       "        vertical-align: middle;\n",
       "    }\n",
       "\n",
       "    .dataframe tbody tr th {\n",
       "        vertical-align: top;\n",
       "    }\n",
       "\n",
       "    .dataframe thead th {\n",
       "        text-align: right;\n",
       "    }\n",
       "</style>\n",
       "<table border=\"1\" class=\"dataframe\">\n",
       "  <thead>\n",
       "    <tr style=\"text-align: right;\">\n",
       "      <th></th>\n",
       "      <th>team</th>\n",
       "      <th>average_goals</th>\n",
       "      <th>average_points</th>\n",
       "      <th>goals_std</th>\n",
       "      <th>points_std</th>\n",
       "    </tr>\n",
       "  </thead>\n",
       "  <tbody>\n",
       "    <tr>\n",
       "      <th>0</th>\n",
       "      <td>Ballinteer St Johns</td>\n",
       "      <td>1.769231</td>\n",
       "      <td>10.615385</td>\n",
       "      <td>1.091928</td>\n",
       "      <td>3.355057</td>\n",
       "    </tr>\n",
       "    <tr>\n",
       "      <th>1</th>\n",
       "      <td>Ballyboden St Endas</td>\n",
       "      <td>3.000000</td>\n",
       "      <td>16.083333</td>\n",
       "      <td>1.279204</td>\n",
       "      <td>2.968267</td>\n",
       "    </tr>\n",
       "    <tr>\n",
       "      <th>2</th>\n",
       "      <td>Ballymun Kickhams</td>\n",
       "      <td>2.083333</td>\n",
       "      <td>12.666667</td>\n",
       "      <td>1.928652</td>\n",
       "      <td>2.902455</td>\n",
       "    </tr>\n",
       "    <tr>\n",
       "      <th>3</th>\n",
       "      <td>Cuala</td>\n",
       "      <td>2.076923</td>\n",
       "      <td>10.923077</td>\n",
       "      <td>2.139374</td>\n",
       "      <td>2.431102</td>\n",
       "    </tr>\n",
       "    <tr>\n",
       "      <th>4</th>\n",
       "      <td>Fingallians</td>\n",
       "      <td>1.461538</td>\n",
       "      <td>10.769231</td>\n",
       "      <td>1.126601</td>\n",
       "      <td>3.370308</td>\n",
       "    </tr>\n",
       "    <tr>\n",
       "      <th>5</th>\n",
       "      <td>Kilmacud Crokes</td>\n",
       "      <td>1.909091</td>\n",
       "      <td>13.727273</td>\n",
       "      <td>1.700267</td>\n",
       "      <td>3.289100</td>\n",
       "    </tr>\n",
       "    <tr>\n",
       "      <th>6</th>\n",
       "      <td>Lucan Sarsfields</td>\n",
       "      <td>2.153846</td>\n",
       "      <td>14.000000</td>\n",
       "      <td>0.898717</td>\n",
       "      <td>4.636809</td>\n",
       "    </tr>\n",
       "    <tr>\n",
       "      <th>7</th>\n",
       "      <td>Na Fianna</td>\n",
       "      <td>1.833333</td>\n",
       "      <td>14.000000</td>\n",
       "      <td>1.337116</td>\n",
       "      <td>3.541956</td>\n",
       "    </tr>\n",
       "    <tr>\n",
       "      <th>8</th>\n",
       "      <td>Skerries Harps</td>\n",
       "      <td>0.923077</td>\n",
       "      <td>10.846154</td>\n",
       "      <td>0.862316</td>\n",
       "      <td>3.262058</td>\n",
       "    </tr>\n",
       "    <tr>\n",
       "      <th>9</th>\n",
       "      <td>St Brigids</td>\n",
       "      <td>1.083333</td>\n",
       "      <td>11.666667</td>\n",
       "      <td>1.083625</td>\n",
       "      <td>3.143054</td>\n",
       "    </tr>\n",
       "    <tr>\n",
       "      <th>10</th>\n",
       "      <td>St Judes</td>\n",
       "      <td>0.909091</td>\n",
       "      <td>13.272727</td>\n",
       "      <td>1.044466</td>\n",
       "      <td>3.289100</td>\n",
       "    </tr>\n",
       "    <tr>\n",
       "      <th>11</th>\n",
       "      <td>St Maurs</td>\n",
       "      <td>1.916667</td>\n",
       "      <td>10.166667</td>\n",
       "      <td>1.378954</td>\n",
       "      <td>3.613946</td>\n",
       "    </tr>\n",
       "    <tr>\n",
       "      <th>12</th>\n",
       "      <td>St Oliver Plunketts ER</td>\n",
       "      <td>1.076923</td>\n",
       "      <td>11.307692</td>\n",
       "      <td>1.115164</td>\n",
       "      <td>3.065524</td>\n",
       "    </tr>\n",
       "    <tr>\n",
       "      <th>13</th>\n",
       "      <td>St Vincents</td>\n",
       "      <td>2.076923</td>\n",
       "      <td>13.538462</td>\n",
       "      <td>1.382120</td>\n",
       "      <td>3.642696</td>\n",
       "    </tr>\n",
       "    <tr>\n",
       "      <th>14</th>\n",
       "      <td>Templeogue Synge Street</td>\n",
       "      <td>1.250000</td>\n",
       "      <td>10.583333</td>\n",
       "      <td>1.138180</td>\n",
       "      <td>2.678478</td>\n",
       "    </tr>\n",
       "    <tr>\n",
       "      <th>15</th>\n",
       "      <td>Thomas Davis</td>\n",
       "      <td>1.230769</td>\n",
       "      <td>13.538462</td>\n",
       "      <td>1.165751</td>\n",
       "      <td>2.470337</td>\n",
       "    </tr>\n",
       "  </tbody>\n",
       "</table>\n",
       "</div>"
      ],
      "text/plain": [
       "                       team  average_goals  average_points  goals_std  \\\n",
       "0       Ballinteer St Johns       1.769231       10.615385   1.091928   \n",
       "1       Ballyboden St Endas       3.000000       16.083333   1.279204   \n",
       "2         Ballymun Kickhams       2.083333       12.666667   1.928652   \n",
       "3                     Cuala       2.076923       10.923077   2.139374   \n",
       "4               Fingallians       1.461538       10.769231   1.126601   \n",
       "5           Kilmacud Crokes       1.909091       13.727273   1.700267   \n",
       "6          Lucan Sarsfields       2.153846       14.000000   0.898717   \n",
       "7                 Na Fianna       1.833333       14.000000   1.337116   \n",
       "8            Skerries Harps       0.923077       10.846154   0.862316   \n",
       "9                St Brigids       1.083333       11.666667   1.083625   \n",
       "10                 St Judes       0.909091       13.272727   1.044466   \n",
       "11                 St Maurs       1.916667       10.166667   1.378954   \n",
       "12   St Oliver Plunketts ER       1.076923       11.307692   1.115164   \n",
       "13              St Vincents       2.076923       13.538462   1.382120   \n",
       "14  Templeogue Synge Street       1.250000       10.583333   1.138180   \n",
       "15             Thomas Davis       1.230769       13.538462   1.165751   \n",
       "\n",
       "    points_std  \n",
       "0     3.355057  \n",
       "1     2.968267  \n",
       "2     2.902455  \n",
       "3     2.431102  \n",
       "4     3.370308  \n",
       "5     3.289100  \n",
       "6     4.636809  \n",
       "7     3.541956  \n",
       "8     3.262058  \n",
       "9     3.143054  \n",
       "10    3.289100  \n",
       "11    3.613946  \n",
       "12    3.065524  \n",
       "13    3.642696  \n",
       "14    2.678478  \n",
       "15    2.470337  "
      ]
     },
     "execution_count": 8,
     "metadata": {},
     "output_type": "execute_result"
    }
   ],
   "source": [
    "team_averages = team_results_df.groupby('team')[['team_goals', 'team_points']].mean().reset_index()\n",
    "team_averages.columns = ['team', 'average_goals', 'average_points']\n",
    "team_stds = team_results_df.groupby('team')[['team_goals', 'team_points']].std().reset_index()\n",
    "team_stds.columns = ['team', 'goals_std', 'points_std']\n",
    "team_averages = team_averages.merge(team_stds, on = 'team')\n",
    "team_averages"
   ]
  },
  {
   "cell_type": "markdown",
   "metadata": {},
   "source": [
    "## Predicting point probabilities using the normal distribution and it's cumulative density function\n",
    "\n",
    "Since we are comfortable that our points data is normally distributed we can calculate a basic probability that a team will score less than $x$ points given the average number of points they usually score, and their standard deviation.\n",
    "\n",
    "From a theoretical perspective, we do this by first calculating the $Z$ score of observing up to $x$ points given the mean ($\\mu$) and standard deviation ($\\sigma$) where:\n",
    "\n",
    "$$Z = \\frac{X - \\mu}{\\sigma}$$\n",
    "\n",
    "From here we look up this $Z$ value in a set of [stats tables](https://www.scss.tcd.ie/~arwhite/Teaching/ST1252/Statistical_Tables.pdf) to determine the probabiltity of observing up to this value ($\\Phi(Z)$) such that:\n",
    "\n",
    "$$P(x < X) = \\Phi(Z)$$\n",
    "\n",
    "**Example:**\n",
    "\n",
    "What is the probability that Ballyboden St Endas will score less than 16 points in a game?\n",
    "\n",
    "Here we know that $X = 16$, $\\mu = 16.083$, $\\sigma = 2.968$.\n",
    "\n",
    "So:\n",
    "\n",
    "$$ Z = \\frac{16 - 16.083}{2.968} = -0.280$$\n",
    "\n",
    "\n",
    "$$ P(x < X) = \\Phi(Z) = 0.4888$$\n",
    "\n",
    "In other words there is a probability of 0.49 that Ballyboden will score less than 16 points in a game.\n",
    "\n",
    "**Why only less than?**\n",
    "\n",
    "By default the Z score/p-value approach returns the cumulative probability of observing a result (points scored) less that $X$. However if instead we want to calculate the probability that Ballyboden scores 16 or more points we can very easily do this by subtracting the probability of scoring less than 16 from 1 as seen below:\n",
    "\n",
    "$$P(x >= 16) = 1 - P(x < 16)$$\n",
    "\n",
    "$$= 1 - 0.4888$$\n",
    "\n",
    "$$= 0.5222$$\n",
    "\n",
    "**What if I want to calculate exact point probabilities?**\n",
    "\n",
    "Unfortunately since the normal distribution is a continous distribution, the probability of observing a particular exact value is 0. We can however calculate the probability of observing a value within a given range. \n",
    "\n",
    "For example, if we wanted to calculate the probability of Ballyboden scoring 16 points we could consider this the same as the probability of them scoring between 15.5 and 16.5 points. When we think of it like this, the calculation becomes a lot easier:\n",
    "\n",
    "$$P(15.5 < X < 16.5) = P(X < 16.5) - P(X < 15.5)$$"
   ]
  },
  {
   "cell_type": "markdown",
   "metadata": {},
   "source": [
    "### Examples using Python\n",
    "\n",
    "Thankfully for us, [scipy's norm function](https://docs.scipy.org/doc/scipy/reference/generated/scipy.stats.norm.html) allows us to quickly calculate the probability of observing particular values in a normal distribution.\n",
    "\n",
    "In the below examples you will see how we can use this function, along with our data to answer some point probability questions."
   ]
  },
  {
   "cell_type": "markdown",
   "metadata": {},
   "source": [
    "#### Whats the probability of  Ballyboden scoring less than 16 points in a game?"
   ]
  },
  {
   "cell_type": "code",
   "execution_count": 9,
   "metadata": {},
   "outputs": [
    {
     "name": "stdout",
     "output_type": "stream",
     "text": [
      "Probability: 0.4888\n"
     ]
    }
   ],
   "source": [
    "team = 'Ballyboden St Endas'\n",
    "score_less_than = 16\n",
    "\n",
    "team_avergage = team_averages.loc[team_averages['team']==team, 'average_points'].values[0]\n",
    "team_std = team_averages.loc[team_averages['team']==team, 'points_std'].values[0]\n",
    "\n",
    "probabiltity = norm(team_avergage, team_std).cdf(score_less_than)\n",
    "print(f\"Probability: {round(probabiltity, 4)}\")"
   ]
  },
  {
   "cell_type": "markdown",
   "metadata": {},
   "source": [
    "#### What's the probability of Ballymun scoring more than 15 points in a game? "
   ]
  },
  {
   "cell_type": "code",
   "execution_count": 10,
   "metadata": {},
   "outputs": [
    {
     "name": "stdout",
     "output_type": "stream",
     "text": [
      "Probability: 0.2107\n"
     ]
    }
   ],
   "source": [
    "team = 'Ballymun Kickhams'\n",
    "score_more_than = 15\n",
    "\n",
    "team_avergage = team_averages.loc[team_averages['team']==team, 'average_points'].values[0]\n",
    "team_std = team_averages.loc[team_averages['team']==team, 'points_std'].values[0]\n",
    "\n",
    "probabiltity = 1 - norm(team_avergage, team_std).cdf(score_more_than)\n",
    "print(f\"Probability: {round(probabiltity, 4)}\")"
   ]
  },
  {
   "cell_type": "markdown",
   "metadata": {},
   "source": [
    "#### Whats the probability of Na Fianna scoring more than 14.5. and less than 15.5 points in a game?"
   ]
  },
  {
   "cell_type": "code",
   "execution_count": 11,
   "metadata": {},
   "outputs": [
    {
     "name": "stdout",
     "output_type": "stream",
     "text": [
      "Probability: 0.1079\n"
     ]
    }
   ],
   "source": [
    "team = 'Na Fianna'\n",
    "score_more_than = 14.5\n",
    "score_less_than = 15.5\n",
    "\n",
    "team_avergage = team_averages.loc[team_averages['team']==team, 'average_points'].values[0]\n",
    "team_std = team_averages.loc[team_averages['team']==team, 'points_std'].values[0]\n",
    "\n",
    "probabiltity_more_than = norm(team_avergage, team_std).cdf(score_more_than)\n",
    "probabiltity_less_than = norm(team_avergage, team_std).cdf(score_less_than)\n",
    "print(f\"Probability: {round(probabiltity_less_than, 4) - round(probabiltity_more_than, 4)}\")"
   ]
  },
  {
   "cell_type": "markdown",
   "metadata": {},
   "source": [
    "## Predicting goal probabilities using the poisson distribution and it's probability mass function\n",
    "\n",
    "Similarly to the normal distribution, the poisson distribution also allows us to calculate the probability of scoring a particular number of goals given the team's mean number of goals scored. However unlike the normal distribution, the poisson distribution is a discrete distribution which means we can calculate the probability of scoring an exact number of goals.\n",
    "\n",
    "To calculate the probability of scoring $x$ goals according to the poisson distribution, we can use the following formula:\n",
    "\n",
    "$$P(x) = \\frac{e^{- \\lambda}\\lambda^x}{x!}$$\n",
    "\n",
    "Where$\\lambda$ the average number of goals scored by the team per game.\n",
    "\n",
    "**Example:**\n",
    "\n",
    "What is the probability that Skerries Harps score 3 goals in a match?\n",
    "\n",
    "$$P(3) = \\frac{e^{- 0.923077}0.923077^3}{3!}$$\n",
    "\n",
    "$$= 0.052$$\n",
    "\n",
    "**Probability of scoring more than N goals?**\n",
    "\n",
    "If we want to calculate the probability that a team will score 2 or more goals, this would simply be 1 minus the probability of scoring 0 or 1 goals:\n",
    "\n",
    "$$P(x >= 2) = 1 - (P(x = 0) + P(x = 1))$$\n"
   ]
  },
  {
   "cell_type": "markdown",
   "metadata": {},
   "source": [
    "### Examples using Python\n",
    "\n",
    "Similar to before, scipy has a handy [poisson function](https://docs.scipy.org/doc/scipy/reference/generated/scipy.stats.poisson.html) which allows us to easily calculate these probabilities as demonstrated in the examples below"
   ]
  },
  {
   "cell_type": "markdown",
   "metadata": {},
   "source": [
    "#### What is the probability of Skerries Harps scoring 3 goals in a match? "
   ]
  },
  {
   "cell_type": "code",
   "execution_count": 12,
   "metadata": {},
   "outputs": [
    {
     "name": "stdout",
     "output_type": "stream",
     "text": [
      "Probability: 0.0521\n"
     ]
    }
   ],
   "source": [
    "team = 'Skerries Harps'\n",
    "number_of_goals = 3\n",
    "\n",
    "team_avergage = team_averages.loc[team_averages['team']==team, 'average_goals'].values[0]\n",
    "\n",
    "probabiltity = poisson.pmf(number_of_goals, team_avergage)\n",
    "print(f\"Probability: {round(probabiltity, 4)}\")"
   ]
  },
  {
   "cell_type": "markdown",
   "metadata": {},
   "source": [
    "#### Whats the probability of Fingallians scoring more than 2 goals in a match?"
   ]
  },
  {
   "cell_type": "code",
   "execution_count": 13,
   "metadata": {},
   "outputs": [
    {
     "name": "stdout",
     "output_type": "stream",
     "text": [
      "Probability: 0.1816\n"
     ]
    }
   ],
   "source": [
    "team = 'Fingallians'\n",
    "\n",
    "team_avergage = team_averages.loc[team_averages['team']==team, 'average_goals'].values[0]\n",
    "\n",
    "probabiltity = 1 - (poisson.pmf(0, team_avergage) + poisson.pmf(1, team_avergage) + poisson.pmf(2, team_avergage))\n",
    "print(f\"Probability: {round(probabiltity, 4)}\")"
   ]
  },
  {
   "cell_type": "markdown",
   "metadata": {},
   "source": [
    "# Calculating expected goals & points taking into account the opponent and home field advantage \n",
    "\n",
    "While the simple approach described above can help us get to grips with the normal/poisson distributions and the idea of predicting goal probabilities, it fails to take into account the quality of the opponent and any home field advantage which may be in play.\n",
    "\n",
    "We can get around this however by fitting a normal/gaussian regression model  for points (since the response variable is normally distributed),and poisson regression model for goals to predict the expected number of points/goals a team will score against a particular opponent with home field advantage in mind.\n",
    "\n",
    "Of course we can add any number of variables to this model (e.g. average passes per team, possession, etc.) as they are available, however for the purposes of this tutorial the three mentioned above will suffice.\n",
    "\n",
    "Thankfully for us, we can very easily fit a  normal or poisson regression using the [statsmodels library](https://www.statsmodels.org/stable/index.html), as demonstrated below.\n",
    "\n",
    "## Points - normal regression \n",
    "\n",
    "We can fit a regression model to predict the number of points a team will score against a particular opponent by passing in the variables from the `team_results_df` we created earlier and specifying the family as `sm.families.Gaussian()`."
   ]
  },
  {
   "cell_type": "code",
   "execution_count": 14,
   "metadata": {},
   "outputs": [],
   "source": [
    "normal_model = smf.glm(\n",
    "    formula=\"team_points ~ at_home + team + opponent\", data=team_results_df, family=sm.families.Gaussian()\n",
    ").fit()"
   ]
  },
  {
   "cell_type": "markdown",
   "metadata": {},
   "source": [
    "When we take a look at the output below, the first thing that we notice is that there is a lot of information. However for the purposes of understanding how the predictions will work, the main things we are interested in are the values in the `coeff` column. These values represent what we will pass into the poisson regression model formula to calculate the expected goals a team will score.\n",
    "\n",
    "**Example:**\n",
    "\n",
    "Consider we want to put a bet on how many points Ballymun Kickhams will score in a home fixture against Lucan Sarsfields. We would begin by pulling the `intercept`(always included), `team[T.Ballymun Kickhams]`, `opponent[T.Lucan Sarsfields]`, and `at_home` values from the table below (note if the team you want to detrmine the expected points for is playing away you can leave out the `at_home` value).\n",
    "\n",
    "From here, we can simply plug these in to the **normal regression formula**:\n",
    "\n",
    "$$ \\lambda = E[Y | x] = \\theta x$$\n",
    "\n",
    "Where $\\theta$ is the sum of our coefficient values (including the intercept).\n",
    "\n",
    "Doing this we get:\n",
    "\n",
    "$$ \\lambda = 10.7187 + 1.9499 + 0.4201 + 0.7356 = 13.82$$\n",
    "\n",
    "Using this data, our model tells us that Ballymun are expected to score 13.82 points against Lucan.\n",
    "\n",
    "Of course we don't always have to do this by hand as [statsmodels](https://www.statsmodels.org/stable/index.html) provides a handy `predict()` function which we will use in our simulations (see below)."
   ]
  },
  {
   "cell_type": "code",
   "execution_count": 15,
   "metadata": {},
   "outputs": [
    {
     "data": {
      "text/plain": [
       "13.824284078685377"
      ]
     },
     "execution_count": 15,
     "metadata": {},
     "output_type": "execute_result"
    }
   ],
   "source": [
    "normal_model.predict(\n",
    "    pd.DataFrame(data={'team': 'Ballymun Kickhams', 'opponent': 'Lucan Sarsfields', 'at_home':1},index=[1])\n",
    ").values[0]"
   ]
  },
  {
   "cell_type": "code",
   "execution_count": 16,
   "metadata": {},
   "outputs": [
    {
     "data": {
      "text/html": [
       "<table class=\"simpletable\">\n",
       "<caption>Generalized Linear Model Regression Results</caption>\n",
       "<tr>\n",
       "  <th>Dep. Variable:</th>      <td>team_points</td>   <th>  No. Observations:  </th>  <td>   198</td> \n",
       "</tr>\n",
       "<tr>\n",
       "  <th>Model:</th>                  <td>GLM</td>       <th>  Df Residuals:      </th>  <td>   166</td> \n",
       "</tr>\n",
       "<tr>\n",
       "  <th>Model Family:</th>        <td>Gaussian</td>     <th>  Df Model:          </th>  <td>    31</td> \n",
       "</tr>\n",
       "<tr>\n",
       "  <th>Link Function:</th>       <td>identity</td>     <th>  Scale:             </th> <td>  9.5616</td>\n",
       "</tr>\n",
       "<tr>\n",
       "  <th>Method:</th>                <td>IRLS</td>       <th>  Log-Likelihood:    </th> <td> -487.02</td>\n",
       "</tr>\n",
       "<tr>\n",
       "  <th>Date:</th>            <td>Tue, 13 Oct 2020</td> <th>  Deviance:          </th> <td>  1587.2</td>\n",
       "</tr>\n",
       "<tr>\n",
       "  <th>Time:</th>                <td>21:46:48</td>     <th>  Pearson chi2:      </th> <td>1.59e+03</td>\n",
       "</tr>\n",
       "<tr>\n",
       "  <th>No. Iterations:</th>          <td>3</td>        <th>                     </th>     <td> </td>   \n",
       "</tr>\n",
       "<tr>\n",
       "  <th>Covariance Type:</th>     <td>nonrobust</td>    <th>                     </th>     <td> </td>   \n",
       "</tr>\n",
       "</table>\n",
       "<table class=\"simpletable\">\n",
       "<tr>\n",
       "                   <td></td>                      <th>coef</th>     <th>std err</th>      <th>z</th>      <th>P>|z|</th>  <th>[0.025</th>    <th>0.975]</th>  \n",
       "</tr>\n",
       "<tr>\n",
       "  <th>Intercept</th>                           <td>   10.7187</td> <td>    1.264</td> <td>    8.477</td> <td> 0.000</td> <td>    8.240</td> <td>   13.197</td>\n",
       "</tr>\n",
       "<tr>\n",
       "  <th>team[T.Ballyboden St Endas]</th>         <td>    5.2786</td> <td>    1.253</td> <td>    4.214</td> <td> 0.000</td> <td>    2.823</td> <td>    7.734</td>\n",
       "</tr>\n",
       "<tr>\n",
       "  <th>team[T.Ballymun Kickhams]</th>           <td>    1.9499</td> <td>    1.249</td> <td>    1.562</td> <td> 0.118</td> <td>   -0.497</td> <td>    4.397</td>\n",
       "</tr>\n",
       "<tr>\n",
       "  <th>team[T.Cuala]</th>                       <td>    0.2212</td> <td>    1.224</td> <td>    0.181</td> <td> 0.857</td> <td>   -2.178</td> <td>    2.620</td>\n",
       "</tr>\n",
       "<tr>\n",
       "  <th>team[T.Fingallians]</th>                 <td>    0.5383</td> <td>    1.224</td> <td>    0.440</td> <td> 0.660</td> <td>   -1.861</td> <td>    2.938</td>\n",
       "</tr>\n",
       "<tr>\n",
       "  <th>team[T.Kilmacud Crokes]</th>             <td>    2.7939</td> <td>    1.286</td> <td>    2.173</td> <td> 0.030</td> <td>    0.274</td> <td>    5.314</td>\n",
       "</tr>\n",
       "<tr>\n",
       "  <th>team[T.Lucan Sarsfields]</th>            <td>    3.3261</td> <td>    1.224</td> <td>    2.717</td> <td> 0.007</td> <td>    0.926</td> <td>    5.726</td>\n",
       "</tr>\n",
       "<tr>\n",
       "  <th>team[T.Na Fianna]</th>                   <td>    3.0826</td> <td>    1.254</td> <td>    2.459</td> <td> 0.014</td> <td>    0.625</td> <td>    5.540</td>\n",
       "</tr>\n",
       "<tr>\n",
       "  <th>team[T.Skerries Harps]</th>              <td>    0.1332</td> <td>    1.217</td> <td>    0.109</td> <td> 0.913</td> <td>   -2.251</td> <td>    2.517</td>\n",
       "</tr>\n",
       "<tr>\n",
       "  <th>team[T.St Brigids]</th>                  <td>    1.2156</td> <td>    1.253</td> <td>    0.970</td> <td> 0.332</td> <td>   -1.240</td> <td>    3.671</td>\n",
       "</tr>\n",
       "<tr>\n",
       "  <th>team[T.St Judes]</th>                    <td>    2.6122</td> <td>    1.285</td> <td>    2.033</td> <td> 0.042</td> <td>    0.093</td> <td>    5.131</td>\n",
       "</tr>\n",
       "<tr>\n",
       "  <th>team[T.St Maurs]</th>                    <td>   -0.4894</td> <td>    1.253</td> <td>   -0.390</td> <td> 0.696</td> <td>   -2.946</td> <td>    1.967</td>\n",
       "</tr>\n",
       "<tr>\n",
       "  <th>team[T.St Oliver Plunketts ER]</th>      <td>    0.7364</td> <td>    1.224</td> <td>    0.602</td> <td> 0.547</td> <td>   -1.663</td> <td>    3.136</td>\n",
       "</tr>\n",
       "<tr>\n",
       "  <th>team[T.St Vincents]</th>                 <td>    2.7889</td> <td>    1.221</td> <td>    2.285</td> <td> 0.022</td> <td>    0.396</td> <td>    5.181</td>\n",
       "</tr>\n",
       "<tr>\n",
       "  <th>team[T.Templeogue Synge Street]</th>     <td>    0.1894</td> <td>    1.254</td> <td>    0.151</td> <td> 0.880</td> <td>   -2.268</td> <td>    2.647</td>\n",
       "</tr>\n",
       "<tr>\n",
       "  <th>team[T.Thomas Davis]</th>                <td>    2.9541</td> <td>    1.217</td> <td>    2.428</td> <td> 0.015</td> <td>    0.569</td> <td>    5.339</td>\n",
       "</tr>\n",
       "<tr>\n",
       "  <th>opponent[T.Ballyboden St Endas]</th>     <td>   -2.0220</td> <td>    1.253</td> <td>   -1.614</td> <td> 0.106</td> <td>   -4.477</td> <td>    0.433</td>\n",
       "</tr>\n",
       "<tr>\n",
       "  <th>opponent[T.Ballymun Kickhams]</th>       <td>   -0.5327</td> <td>    1.249</td> <td>   -0.427</td> <td> 0.670</td> <td>   -2.980</td> <td>    1.914</td>\n",
       "</tr>\n",
       "<tr>\n",
       "  <th>opponent[T.Cuala]</th>                   <td>   -1.2116</td> <td>    1.224</td> <td>   -0.990</td> <td> 0.322</td> <td>   -3.610</td> <td>    1.187</td>\n",
       "</tr>\n",
       "<tr>\n",
       "  <th>opponent[T.Fingallians]</th>             <td>    1.3962</td> <td>    1.224</td> <td>    1.140</td> <td> 0.254</td> <td>   -1.004</td> <td>    3.796</td>\n",
       "</tr>\n",
       "<tr>\n",
       "  <th>opponent[T.Kilmacud Crokes]</th>         <td>   -0.4363</td> <td>    1.286</td> <td>   -0.339</td> <td> 0.734</td> <td>   -2.956</td> <td>    2.083</td>\n",
       "</tr>\n",
       "<tr>\n",
       "  <th>opponent[T.Lucan Sarsfields]</th>        <td>    0.4201</td> <td>    1.224</td> <td>    0.343</td> <td> 0.732</td> <td>   -1.980</td> <td>    2.820</td>\n",
       "</tr>\n",
       "<tr>\n",
       "  <th>opponent[T.Na Fianna]</th>               <td>   -0.9929</td> <td>    1.254</td> <td>   -0.792</td> <td> 0.428</td> <td>   -3.450</td> <td>    1.464</td>\n",
       "</tr>\n",
       "<tr>\n",
       "  <th>opponent[T.Skerries Harps]</th>          <td>   -0.9358</td> <td>    1.217</td> <td>   -0.769</td> <td> 0.442</td> <td>   -3.320</td> <td>    1.449</td>\n",
       "</tr>\n",
       "<tr>\n",
       "  <th>opponent[T.St Brigids]</th>              <td>    0.5540</td> <td>    1.253</td> <td>    0.442</td> <td> 0.658</td> <td>   -1.902</td> <td>    3.010</td>\n",
       "</tr>\n",
       "<tr>\n",
       "  <th>opponent[T.St Judes]</th>                <td>   -3.6114</td> <td>    1.285</td> <td>   -2.810</td> <td> 0.005</td> <td>   -6.130</td> <td>   -1.093</td>\n",
       "</tr>\n",
       "<tr>\n",
       "  <th>opponent[T.St Maurs]</th>                <td>    0.8578</td> <td>    1.253</td> <td>    0.684</td> <td> 0.494</td> <td>   -1.599</td> <td>    3.314</td>\n",
       "</tr>\n",
       "<tr>\n",
       "  <th>opponent[T.St Oliver Plunketts ER]</th>  <td>   -1.5780</td> <td>    1.224</td> <td>   -1.289</td> <td> 0.197</td> <td>   -3.977</td> <td>    0.821</td>\n",
       "</tr>\n",
       "<tr>\n",
       "  <th>opponent[T.St Vincents]</th>             <td>   -1.2061</td> <td>    1.221</td> <td>   -0.988</td> <td> 0.323</td> <td>   -3.599</td> <td>    1.186</td>\n",
       "</tr>\n",
       "<tr>\n",
       "  <th>opponent[T.Templeogue Synge Street]</th> <td>    1.8709</td> <td>    1.254</td> <td>    1.492</td> <td> 0.136</td> <td>   -0.586</td> <td>    4.328</td>\n",
       "</tr>\n",
       "<tr>\n",
       "  <th>opponent[T.Thomas Davis]</th>            <td>    0.0628</td> <td>    1.217</td> <td>    0.052</td> <td> 0.959</td> <td>   -2.322</td> <td>    2.447</td>\n",
       "</tr>\n",
       "<tr>\n",
       "  <th>at_home</th>                             <td>    0.7356</td> <td>    0.445</td> <td>    1.654</td> <td> 0.098</td> <td>   -0.136</td> <td>    1.608</td>\n",
       "</tr>\n",
       "</table>"
      ],
      "text/plain": [
       "<class 'statsmodels.iolib.summary.Summary'>\n",
       "\"\"\"\n",
       "                 Generalized Linear Model Regression Results                  \n",
       "==============================================================================\n",
       "Dep. Variable:            team_points   No. Observations:                  198\n",
       "Model:                            GLM   Df Residuals:                      166\n",
       "Model Family:                Gaussian   Df Model:                           31\n",
       "Link Function:               identity   Scale:                          9.5616\n",
       "Method:                          IRLS   Log-Likelihood:                -487.02\n",
       "Date:                Tue, 13 Oct 2020   Deviance:                       1587.2\n",
       "Time:                        21:46:48   Pearson chi2:                 1.59e+03\n",
       "No. Iterations:                     3                                         \n",
       "Covariance Type:            nonrobust                                         \n",
       "=======================================================================================================\n",
       "                                          coef    std err          z      P>|z|      [0.025      0.975]\n",
       "-------------------------------------------------------------------------------------------------------\n",
       "Intercept                              10.7187      1.264      8.477      0.000       8.240      13.197\n",
       "team[T.Ballyboden St Endas]             5.2786      1.253      4.214      0.000       2.823       7.734\n",
       "team[T.Ballymun Kickhams]               1.9499      1.249      1.562      0.118      -0.497       4.397\n",
       "team[T.Cuala]                           0.2212      1.224      0.181      0.857      -2.178       2.620\n",
       "team[T.Fingallians]                     0.5383      1.224      0.440      0.660      -1.861       2.938\n",
       "team[T.Kilmacud Crokes]                 2.7939      1.286      2.173      0.030       0.274       5.314\n",
       "team[T.Lucan Sarsfields]                3.3261      1.224      2.717      0.007       0.926       5.726\n",
       "team[T.Na Fianna]                       3.0826      1.254      2.459      0.014       0.625       5.540\n",
       "team[T.Skerries Harps]                  0.1332      1.217      0.109      0.913      -2.251       2.517\n",
       "team[T.St Brigids]                      1.2156      1.253      0.970      0.332      -1.240       3.671\n",
       "team[T.St Judes]                        2.6122      1.285      2.033      0.042       0.093       5.131\n",
       "team[T.St Maurs]                       -0.4894      1.253     -0.390      0.696      -2.946       1.967\n",
       "team[T.St Oliver Plunketts ER]          0.7364      1.224      0.602      0.547      -1.663       3.136\n",
       "team[T.St Vincents]                     2.7889      1.221      2.285      0.022       0.396       5.181\n",
       "team[T.Templeogue Synge Street]         0.1894      1.254      0.151      0.880      -2.268       2.647\n",
       "team[T.Thomas Davis]                    2.9541      1.217      2.428      0.015       0.569       5.339\n",
       "opponent[T.Ballyboden St Endas]        -2.0220      1.253     -1.614      0.106      -4.477       0.433\n",
       "opponent[T.Ballymun Kickhams]          -0.5327      1.249     -0.427      0.670      -2.980       1.914\n",
       "opponent[T.Cuala]                      -1.2116      1.224     -0.990      0.322      -3.610       1.187\n",
       "opponent[T.Fingallians]                 1.3962      1.224      1.140      0.254      -1.004       3.796\n",
       "opponent[T.Kilmacud Crokes]            -0.4363      1.286     -0.339      0.734      -2.956       2.083\n",
       "opponent[T.Lucan Sarsfields]            0.4201      1.224      0.343      0.732      -1.980       2.820\n",
       "opponent[T.Na Fianna]                  -0.9929      1.254     -0.792      0.428      -3.450       1.464\n",
       "opponent[T.Skerries Harps]             -0.9358      1.217     -0.769      0.442      -3.320       1.449\n",
       "opponent[T.St Brigids]                  0.5540      1.253      0.442      0.658      -1.902       3.010\n",
       "opponent[T.St Judes]                   -3.6114      1.285     -2.810      0.005      -6.130      -1.093\n",
       "opponent[T.St Maurs]                    0.8578      1.253      0.684      0.494      -1.599       3.314\n",
       "opponent[T.St Oliver Plunketts ER]     -1.5780      1.224     -1.289      0.197      -3.977       0.821\n",
       "opponent[T.St Vincents]                -1.2061      1.221     -0.988      0.323      -3.599       1.186\n",
       "opponent[T.Templeogue Synge Street]     1.8709      1.254      1.492      0.136      -0.586       4.328\n",
       "opponent[T.Thomas Davis]                0.0628      1.217      0.052      0.959      -2.322       2.447\n",
       "at_home                                 0.7356      0.445      1.654      0.098      -0.136       1.608\n",
       "=======================================================================================================\n",
       "\"\"\""
      ]
     },
     "execution_count": 16,
     "metadata": {},
     "output_type": "execute_result"
    }
   ],
   "source": [
    "normal_model.summary()"
   ]
  },
  {
   "cell_type": "markdown",
   "metadata": {},
   "source": [
    "### Examples using python"
   ]
  },
  {
   "cell_type": "markdown",
   "metadata": {},
   "source": [
    "#### How many points are St Judes expected to score against St Brigids at home?"
   ]
  },
  {
   "cell_type": "code",
   "execution_count": 17,
   "metadata": {},
   "outputs": [
    {
     "data": {
      "text/plain": [
       "14.620521640991903"
      ]
     },
     "execution_count": 17,
     "metadata": {},
     "output_type": "execute_result"
    }
   ],
   "source": [
    "normal_model.predict(\n",
    "    pd.DataFrame(data={'team': 'St Judes', 'opponent': 'St Brigids', 'at_home':1},index=[1])\n",
    ").values[0]"
   ]
  },
  {
   "cell_type": "markdown",
   "metadata": {},
   "source": [
    "####  How many points are St Judes expected to score against St Brigids away from home?"
   ]
  },
  {
   "cell_type": "code",
   "execution_count": 18,
   "metadata": {},
   "outputs": [
    {
     "data": {
      "text/plain": [
       "13.884878262118631"
      ]
     },
     "execution_count": 18,
     "metadata": {},
     "output_type": "execute_result"
    }
   ],
   "source": [
    "normal_model.predict(\n",
    "    pd.DataFrame(data={'team': 'St Judes', 'opponent': 'St Brigids', 'at_home':0},index=[1])\n",
    ").values[0]"
   ]
  },
  {
   "cell_type": "markdown",
   "metadata": {},
   "source": [
    "## Goals - poisson regression \n",
    "\n",
    "As with the points data, we can simply fit a poisson regression model using the same variables to make a prediction on the number of goals a team is expected to score against a particular opponent."
   ]
  },
  {
   "cell_type": "code",
   "execution_count": 19,
   "metadata": {},
   "outputs": [],
   "source": [
    "poisson_model = smf.glm(\n",
    "    formula=\"team_goals ~ at_home + team + opponent\", data=team_results_df, family=sm.families.Poisson()\n",
    ").fit()"
   ]
  },
  {
   "cell_type": "markdown",
   "metadata": {},
   "source": [
    "**Example:**\n",
    "\n",
    "Instead of points, lets say we want to know how many goals Ballymun should score against Lucan. Well the process is very similar, and as with before we begin by pulling the `intercept`, `team[T.Ballymun Kickhams]`, `opponent[T.Lucan Sarsfields]`, and `at_home` values from the table below.\n",
    "\n",
    "From here, we plug these values into the slightly different **poisson regression formula**:\n",
    "\n",
    "$$ \\lambda = E[Y | x] = e^{\\theta x}$$\n",
    "\n",
    "Where once again $\\theta$ is the sum of our coefficient values (including the intercept).\n",
    "\n",
    "Doing this we get:\n",
    "\n",
    "$$ \\lambda = e^{0.5871 + 0.0965 + 0.1415 + 0.1253} = 2.58$$\n",
    "\n",
    "Calculating the above we can see that our models expects Ballymun to score 2.58 goals against Lucan. This combined with the 13.82 points predicted above should surely be enough to get them the win!\n",
    "\n",
    "Once again, we can use the `predict()` function to perform these calculations easily in Python."
   ]
  },
  {
   "cell_type": "code",
   "execution_count": 20,
   "metadata": {},
   "outputs": [
    {
     "data": {
      "text/plain": [
       "2.5863274203336766"
      ]
     },
     "execution_count": 20,
     "metadata": {},
     "output_type": "execute_result"
    }
   ],
   "source": [
    "poisson_model.predict(\n",
    "    pd.DataFrame(data={'team': 'Ballymun Kickhams', 'opponent': 'Lucan Sarsfields', 'at_home':1},index=[1])\n",
    ").values[0]"
   ]
  },
  {
   "cell_type": "code",
   "execution_count": 21,
   "metadata": {},
   "outputs": [
    {
     "data": {
      "text/html": [
       "<table class=\"simpletable\">\n",
       "<caption>Generalized Linear Model Regression Results</caption>\n",
       "<tr>\n",
       "  <th>Dep. Variable:</th>      <td>team_goals</td>    <th>  No. Observations:  </th>  <td>   198</td> \n",
       "</tr>\n",
       "<tr>\n",
       "  <th>Model:</th>                  <td>GLM</td>       <th>  Df Residuals:      </th>  <td>   166</td> \n",
       "</tr>\n",
       "<tr>\n",
       "  <th>Model Family:</th>         <td>Poisson</td>     <th>  Df Model:          </th>  <td>    31</td> \n",
       "</tr>\n",
       "<tr>\n",
       "  <th>Link Function:</th>          <td>log</td>       <th>  Scale:             </th> <td>  1.0000</td>\n",
       "</tr>\n",
       "<tr>\n",
       "  <th>Method:</th>                <td>IRLS</td>       <th>  Log-Likelihood:    </th> <td> -289.02</td>\n",
       "</tr>\n",
       "<tr>\n",
       "  <th>Date:</th>            <td>Tue, 13 Oct 2020</td> <th>  Deviance:          </th> <td>  185.38</td>\n",
       "</tr>\n",
       "<tr>\n",
       "  <th>Time:</th>                <td>21:46:48</td>     <th>  Pearson chi2:      </th>  <td>  158.</td> \n",
       "</tr>\n",
       "<tr>\n",
       "  <th>No. Iterations:</th>          <td>5</td>        <th>                     </th>     <td> </td>   \n",
       "</tr>\n",
       "<tr>\n",
       "  <th>Covariance Type:</th>     <td>nonrobust</td>    <th>                     </th>     <td> </td>   \n",
       "</tr>\n",
       "</table>\n",
       "<table class=\"simpletable\">\n",
       "<tr>\n",
       "                   <td></td>                      <th>coef</th>     <th>std err</th>      <th>z</th>      <th>P>|z|</th>  <th>[0.025</th>    <th>0.975]</th>  \n",
       "</tr>\n",
       "<tr>\n",
       "  <th>Intercept</th>                           <td>    0.5871</td> <td>    0.305</td> <td>    1.925</td> <td> 0.054</td> <td>   -0.011</td> <td>    1.185</td>\n",
       "</tr>\n",
       "<tr>\n",
       "  <th>team[T.Ballyboden St Endas]</th>         <td>    0.4450</td> <td>    0.271</td> <td>    1.644</td> <td> 0.100</td> <td>   -0.085</td> <td>    0.975</td>\n",
       "</tr>\n",
       "<tr>\n",
       "  <th>team[T.Ballymun Kickhams]</th>           <td>    0.0965</td> <td>    0.291</td> <td>    0.331</td> <td> 0.740</td> <td>   -0.474</td> <td>    0.667</td>\n",
       "</tr>\n",
       "<tr>\n",
       "  <th>team[T.Cuala]</th>                       <td>    0.1218</td> <td>    0.287</td> <td>    0.424</td> <td> 0.671</td> <td>   -0.441</td> <td>    0.684</td>\n",
       "</tr>\n",
       "<tr>\n",
       "  <th>team[T.Fingallians]</th>                 <td>   -0.1120</td> <td>    0.314</td> <td>   -0.356</td> <td> 0.722</td> <td>   -0.728</td> <td>    0.504</td>\n",
       "</tr>\n",
       "<tr>\n",
       "  <th>team[T.Kilmacud Crokes]</th>             <td>   -0.0541</td> <td>    0.306</td> <td>   -0.177</td> <td> 0.860</td> <td>   -0.653</td> <td>    0.545</td>\n",
       "</tr>\n",
       "<tr>\n",
       "  <th>team[T.Lucan Sarsfields]</th>            <td>    0.2012</td> <td>    0.285</td> <td>    0.707</td> <td> 0.480</td> <td>   -0.357</td> <td>    0.759</td>\n",
       "</tr>\n",
       "<tr>\n",
       "  <th>team[T.Na Fianna]</th>                   <td>   -0.0529</td> <td>    0.301</td> <td>   -0.176</td> <td> 0.861</td> <td>   -0.644</td> <td>    0.538</td>\n",
       "</tr>\n",
       "<tr>\n",
       "  <th>team[T.Skerries Harps]</th>              <td>   -0.6905</td> <td>    0.357</td> <td>   -1.934</td> <td> 0.053</td> <td>   -1.390</td> <td>    0.009</td>\n",
       "</tr>\n",
       "<tr>\n",
       "  <th>team[T.St Brigids]</th>                  <td>   -0.4620</td> <td>    0.351</td> <td>   -1.316</td> <td> 0.188</td> <td>   -1.150</td> <td>    0.226</td>\n",
       "</tr>\n",
       "<tr>\n",
       "  <th>team[T.St Judes]</th>                    <td>   -0.5974</td> <td>    0.384</td> <td>   -1.557</td> <td> 0.120</td> <td>   -1.350</td> <td>    0.155</td>\n",
       "</tr>\n",
       "<tr>\n",
       "  <th>team[T.St Maurs]</th>                    <td>    0.1211</td> <td>    0.300</td> <td>    0.404</td> <td> 0.686</td> <td>   -0.466</td> <td>    0.708</td>\n",
       "</tr>\n",
       "<tr>\n",
       "  <th>team[T.St Oliver Plunketts ER]</th>      <td>   -0.4177</td> <td>    0.343</td> <td>   -1.219</td> <td> 0.223</td> <td>   -1.090</td> <td>    0.254</td>\n",
       "</tr>\n",
       "<tr>\n",
       "  <th>team[T.St Vincents]</th>                 <td>    0.1125</td> <td>    0.286</td> <td>    0.394</td> <td> 0.694</td> <td>   -0.448</td> <td>    0.673</td>\n",
       "</tr>\n",
       "<tr>\n",
       "  <th>team[T.Templeogue Synge Street]</th>     <td>   -0.3567</td> <td>    0.336</td> <td>   -1.063</td> <td> 0.288</td> <td>   -1.014</td> <td>    0.301</td>\n",
       "</tr>\n",
       "<tr>\n",
       "  <th>team[T.Thomas Davis]</th>                <td>   -0.4135</td> <td>    0.326</td> <td>   -1.268</td> <td> 0.205</td> <td>   -1.053</td> <td>    0.226</td>\n",
       "</tr>\n",
       "<tr>\n",
       "  <th>opponent[T.Ballyboden St Endas]</th>     <td>   -0.7705</td> <td>    0.394</td> <td>   -1.955</td> <td> 0.051</td> <td>   -1.543</td> <td>    0.002</td>\n",
       "</tr>\n",
       "<tr>\n",
       "  <th>opponent[T.Ballymun Kickhams]</th>       <td>   -1.0595</td> <td>    0.432</td> <td>   -2.453</td> <td> 0.014</td> <td>   -1.906</td> <td>   -0.213</td>\n",
       "</tr>\n",
       "<tr>\n",
       "  <th>opponent[T.Cuala]</th>                   <td>   -0.2997</td> <td>    0.325</td> <td>   -0.921</td> <td> 0.357</td> <td>   -0.938</td> <td>    0.338</td>\n",
       "</tr>\n",
       "<tr>\n",
       "  <th>opponent[T.Fingallians]</th>             <td>   -0.0521</td> <td>    0.298</td> <td>   -0.175</td> <td> 0.861</td> <td>   -0.636</td> <td>    0.531</td>\n",
       "</tr>\n",
       "<tr>\n",
       "  <th>opponent[T.Kilmacud Crokes]</th>         <td>    0.1400</td> <td>    0.300</td> <td>    0.467</td> <td> 0.641</td> <td>   -0.448</td> <td>    0.728</td>\n",
       "</tr>\n",
       "<tr>\n",
       "  <th>opponent[T.Lucan Sarsfields]</th>        <td>    0.1415</td> <td>    0.286</td> <td>    0.495</td> <td> 0.621</td> <td>   -0.419</td> <td>    0.702</td>\n",
       "</tr>\n",
       "<tr>\n",
       "  <th>opponent[T.Na Fianna]</th>               <td>   -0.0240</td> <td>    0.303</td> <td>   -0.079</td> <td> 0.937</td> <td>   -0.617</td> <td>    0.569</td>\n",
       "</tr>\n",
       "<tr>\n",
       "  <th>opponent[T.Skerries Harps]</th>          <td>   -0.1494</td> <td>    0.304</td> <td>   -0.492</td> <td> 0.623</td> <td>   -0.744</td> <td>    0.446</td>\n",
       "</tr>\n",
       "<tr>\n",
       "  <th>opponent[T.St Brigids]</th>              <td>   -0.1011</td> <td>    0.306</td> <td>   -0.331</td> <td> 0.741</td> <td>   -0.700</td> <td>    0.498</td>\n",
       "</tr>\n",
       "<tr>\n",
       "  <th>opponent[T.St Judes]</th>                <td>   -0.7890</td> <td>    0.394</td> <td>   -2.002</td> <td> 0.045</td> <td>   -1.561</td> <td>   -0.017</td>\n",
       "</tr>\n",
       "<tr>\n",
       "  <th>opponent[T.St Maurs]</th>                <td>    0.5316</td> <td>    0.265</td> <td>    2.009</td> <td> 0.045</td> <td>    0.013</td> <td>    1.050</td>\n",
       "</tr>\n",
       "<tr>\n",
       "  <th>opponent[T.St Oliver Plunketts ER]</th>  <td>    0.1112</td> <td>    0.289</td> <td>    0.385</td> <td> 0.700</td> <td>   -0.455</td> <td>    0.677</td>\n",
       "</tr>\n",
       "<tr>\n",
       "  <th>opponent[T.St Vincents]</th>             <td>   -0.3680</td> <td>    0.325</td> <td>   -1.134</td> <td> 0.257</td> <td>   -1.004</td> <td>    0.268</td>\n",
       "</tr>\n",
       "<tr>\n",
       "  <th>opponent[T.Templeogue Synge Street]</th> <td>    0.2603</td> <td>    0.277</td> <td>    0.940</td> <td> 0.347</td> <td>   -0.283</td> <td>    0.803</td>\n",
       "</tr>\n",
       "<tr>\n",
       "  <th>opponent[T.Thomas Davis]</th>            <td>    0.1395</td> <td>    0.284</td> <td>    0.491</td> <td> 0.623</td> <td>   -0.417</td> <td>    0.696</td>\n",
       "</tr>\n",
       "<tr>\n",
       "  <th>at_home</th>                             <td>    0.1253</td> <td>    0.112</td> <td>    1.118</td> <td> 0.263</td> <td>   -0.094</td> <td>    0.345</td>\n",
       "</tr>\n",
       "</table>"
      ],
      "text/plain": [
       "<class 'statsmodels.iolib.summary.Summary'>\n",
       "\"\"\"\n",
       "                 Generalized Linear Model Regression Results                  \n",
       "==============================================================================\n",
       "Dep. Variable:             team_goals   No. Observations:                  198\n",
       "Model:                            GLM   Df Residuals:                      166\n",
       "Model Family:                 Poisson   Df Model:                           31\n",
       "Link Function:                    log   Scale:                          1.0000\n",
       "Method:                          IRLS   Log-Likelihood:                -289.02\n",
       "Date:                Tue, 13 Oct 2020   Deviance:                       185.38\n",
       "Time:                        21:46:48   Pearson chi2:                     158.\n",
       "No. Iterations:                     5                                         \n",
       "Covariance Type:            nonrobust                                         \n",
       "=======================================================================================================\n",
       "                                          coef    std err          z      P>|z|      [0.025      0.975]\n",
       "-------------------------------------------------------------------------------------------------------\n",
       "Intercept                               0.5871      0.305      1.925      0.054      -0.011       1.185\n",
       "team[T.Ballyboden St Endas]             0.4450      0.271      1.644      0.100      -0.085       0.975\n",
       "team[T.Ballymun Kickhams]               0.0965      0.291      0.331      0.740      -0.474       0.667\n",
       "team[T.Cuala]                           0.1218      0.287      0.424      0.671      -0.441       0.684\n",
       "team[T.Fingallians]                    -0.1120      0.314     -0.356      0.722      -0.728       0.504\n",
       "team[T.Kilmacud Crokes]                -0.0541      0.306     -0.177      0.860      -0.653       0.545\n",
       "team[T.Lucan Sarsfields]                0.2012      0.285      0.707      0.480      -0.357       0.759\n",
       "team[T.Na Fianna]                      -0.0529      0.301     -0.176      0.861      -0.644       0.538\n",
       "team[T.Skerries Harps]                 -0.6905      0.357     -1.934      0.053      -1.390       0.009\n",
       "team[T.St Brigids]                     -0.4620      0.351     -1.316      0.188      -1.150       0.226\n",
       "team[T.St Judes]                       -0.5974      0.384     -1.557      0.120      -1.350       0.155\n",
       "team[T.St Maurs]                        0.1211      0.300      0.404      0.686      -0.466       0.708\n",
       "team[T.St Oliver Plunketts ER]         -0.4177      0.343     -1.219      0.223      -1.090       0.254\n",
       "team[T.St Vincents]                     0.1125      0.286      0.394      0.694      -0.448       0.673\n",
       "team[T.Templeogue Synge Street]        -0.3567      0.336     -1.063      0.288      -1.014       0.301\n",
       "team[T.Thomas Davis]                   -0.4135      0.326     -1.268      0.205      -1.053       0.226\n",
       "opponent[T.Ballyboden St Endas]        -0.7705      0.394     -1.955      0.051      -1.543       0.002\n",
       "opponent[T.Ballymun Kickhams]          -1.0595      0.432     -2.453      0.014      -1.906      -0.213\n",
       "opponent[T.Cuala]                      -0.2997      0.325     -0.921      0.357      -0.938       0.338\n",
       "opponent[T.Fingallians]                -0.0521      0.298     -0.175      0.861      -0.636       0.531\n",
       "opponent[T.Kilmacud Crokes]             0.1400      0.300      0.467      0.641      -0.448       0.728\n",
       "opponent[T.Lucan Sarsfields]            0.1415      0.286      0.495      0.621      -0.419       0.702\n",
       "opponent[T.Na Fianna]                  -0.0240      0.303     -0.079      0.937      -0.617       0.569\n",
       "opponent[T.Skerries Harps]             -0.1494      0.304     -0.492      0.623      -0.744       0.446\n",
       "opponent[T.St Brigids]                 -0.1011      0.306     -0.331      0.741      -0.700       0.498\n",
       "opponent[T.St Judes]                   -0.7890      0.394     -2.002      0.045      -1.561      -0.017\n",
       "opponent[T.St Maurs]                    0.5316      0.265      2.009      0.045       0.013       1.050\n",
       "opponent[T.St Oliver Plunketts ER]      0.1112      0.289      0.385      0.700      -0.455       0.677\n",
       "opponent[T.St Vincents]                -0.3680      0.325     -1.134      0.257      -1.004       0.268\n",
       "opponent[T.Templeogue Synge Street]     0.2603      0.277      0.940      0.347      -0.283       0.803\n",
       "opponent[T.Thomas Davis]                0.1395      0.284      0.491      0.623      -0.417       0.696\n",
       "at_home                                 0.1253      0.112      1.118      0.263      -0.094       0.345\n",
       "=======================================================================================================\n",
       "\"\"\""
      ]
     },
     "execution_count": 21,
     "metadata": {},
     "output_type": "execute_result"
    }
   ],
   "source": [
    "poisson_model.summary()"
   ]
  },
  {
   "cell_type": "markdown",
   "metadata": {},
   "source": [
    "### Examples using python "
   ]
  },
  {
   "cell_type": "markdown",
   "metadata": {},
   "source": [
    "#### How many goals are Skerries Harps expected to score against St Maurs at home?"
   ]
  },
  {
   "cell_type": "code",
   "execution_count": 22,
   "metadata": {},
   "outputs": [
    {
     "data": {
      "text/plain": [
       "1.7392518713712306"
      ]
     },
     "execution_count": 22,
     "metadata": {},
     "output_type": "execute_result"
    }
   ],
   "source": [
    "poisson_model.predict(\n",
    "    pd.DataFrame(data={'team': 'Skerries Harps', 'opponent': 'St Maurs', 'at_home':1},index=[1])\n",
    ").values[0]"
   ]
  },
  {
   "cell_type": "markdown",
   "metadata": {},
   "source": [
    "#### How many goals are Skerries Harps expected to score against Ballymun away from home?"
   ]
  },
  {
   "cell_type": "code",
   "execution_count": 23,
   "metadata": {},
   "outputs": [
    {
     "data": {
      "text/plain": [
       "0.3125738185627297"
      ]
     },
     "execution_count": 23,
     "metadata": {},
     "output_type": "execute_result"
    }
   ],
   "source": [
    "poisson_model.predict(\n",
    "    pd.DataFrame(data={'team': 'Skerries Harps', 'opponent': 'Ballymun Kickhams', 'at_home':0},index=[1])\n",
    ").values[0]"
   ]
  },
  {
   "cell_type": "markdown",
   "metadata": {},
   "source": [
    "## A note on interpreting the coefficient values \n",
    "\n",
    "A couple of quick points to note here regarding the coefficient values before moving on:\n",
    "\n",
    "1. You will notice that Ballinteer St Johns don't appear anywhere in this summary. This is because they appear first alphabetically in the data and are thus considered to be the intercept for the model. You can think of all other coefficient values as that teams attacking of defensive strength compared to Ballinteer. For example if a team has a positive coefficient value, it will mean they are a superior attacking team to Ballinteer, whereas a team with a negative coefficient can be considered inferior as an attacking threat. Conversely, an opponent with a positive coefficient can be considered a worse team defensively, while an opponent with a negative coefficent can be considered a better defensive team.\n",
    "\n",
    "\n",
    "2. With point 1 in mind, we can use the coefficient values to rank teams within the league. Since Ballymun have the lowest value in the opponents section of the goals model, we can say they are the best team in the league at defending their goal."
   ]
  },
  {
   "cell_type": "markdown",
   "metadata": {},
   "source": [
    "# Simulating results \n",
    "\n",
    "Once we have a mechanism for determining the expected number of points/goals a team should score against a particular opponent (described in section 5), and a way to calculate the probability of scoring a $x$ goals or points based on the teams average/expected value (described in section 4), the process for simulating matches between two teams and coming up with outcome probabilities is very straight forward."
   ]
  },
  {
   "cell_type": "markdown",
   "metadata": {},
   "source": [
    "## Simulating points \n",
    "\n",
    "Lets say we want to run a simulation on a match between Ballymun (at home) and St. Maurs to determine the probabilities that each team scores within a range of points. To do this we would:\n",
    "\n",
    "1. Calculate how many points Ballymun are expected to score at home versus Maurs (section 5) and the standard deviation\n",
    "\n",
    "\n",
    "2. Calculate how many points Maurs are expected to score away to Ballymun (section 5) and the standard deviation\n",
    "\n",
    "\n",
    "3. Iterate through a range of potential point values for both teams (e.g. 0 to 5, 5 to 10, 10 to 15, etc.) and calculate the probability of that event using the formula described in section 4.\n",
    "\n",
    "\n",
    "4. (Optional) Plot results on heatmap.\n",
    "\n",
    "Using Python we can very easily do this as we already have most of the code set up, all we need to do is set up a function and have it iterate through different point ranges for both teams."
   ]
  },
  {
   "cell_type": "code",
   "execution_count": 24,
   "metadata": {},
   "outputs": [],
   "source": [
    "def simulate_points(normal_model, home_team, away_team):\n",
    "    \n",
    "    # Step 1:\n",
    "    home_team_expected_points = normal_model.predict(\n",
    "        pd.DataFrame(data={'team': home_team, 'opponent': away_team, 'at_home':1},index=[1])\n",
    "    )\n",
    "    home_team_se = normal_model.get_prediction(\n",
    "        pd.DataFrame(data={'team': home_team, 'opponent': away_team, 'at_home':1},index=[1])\n",
    "    ).se_mean[0]\n",
    "    \n",
    "    #  Step 2:\n",
    "    away_team_expected_points = normal_model.predict(\n",
    "        pd.DataFrame(data={'team': away_team, 'opponent': home_team, 'at_home':0},index=[1])\n",
    "    )\n",
    "    away_team_se = normal_model.get_prediction(\n",
    "        pd.DataFrame(data={'team': away_team, 'opponent': home_team, 'at_home':0},index=[1])\n",
    "    ).se_mean[0]\n",
    "    \n",
    "    # Step 3:\n",
    "    point_ranges = [(0, 5), (5, 10), (10, 15), (15, 20), (20, 25)]\n",
    "    \n",
    "    # a list we will use to store the probabilities\n",
    "    overall_point_probs = []\n",
    "    # loop through each team and determine the probability of them scoring within each point range\n",
    "    for team_expectation in [(home_team_expected_points, home_team_se), (away_team_expected_points, away_team_se)]:\n",
    "        team_point_probs = []\n",
    "        expected_points = team_expectation[0]\n",
    "        team_std = team_expectation[1]\n",
    "        for point_range in point_ranges:\n",
    "            probabiltity_less_than = norm(expected_points, team_std).cdf(point_range[0])\n",
    "            probabiltity_more_than = norm(expected_points, team_std).cdf(point_range[1])\n",
    "            probability = probabiltity_more_than - probabiltity_less_than\n",
    "            team_point_probs.append(probability[0])\n",
    "        \n",
    "        # add the teams probabilities to the overall list\n",
    "        overall_point_probs.append(team_point_probs)\n",
    "    \n",
    "    return(np.outer(np.array(overall_point_probs[0]), np.array(overall_point_probs[1])))"
   ]
  },
  {
   "cell_type": "markdown",
   "metadata": {},
   "source": [
    "Plotting the output of this function shows us that the point scoreline with the highest probability is Ballymun scoring between 10-15 points and Maurs scoring between 5-10."
   ]
  },
  {
   "cell_type": "code",
   "execution_count": 25,
   "metadata": {
    "scrolled": true
   },
   "outputs": [
    {
     "name": "stderr",
     "output_type": "stream",
     "text": [
      "<ipython-input-25-d65a3aca5308>:32: UserWarning: Matplotlib is currently using module://ipykernel.pylab.backend_inline, which is a non-GUI backend, so cannot show the figure.\n",
      "  fig.show()\n"
     ]
    },
    {
     "data": {
      "image/png": "[encoded data removed]",
      "text/plain": [
       "<Figure size 1476x756 with 2 Axes>"
      ]
     },
     "metadata": {
      "needs_background": "light"
     },
     "output_type": "display_data"
    }
   ],
   "source": [
    "home_team = \"Ballymun Kickhams\"\n",
    "away_team = \"St Maurs\"\n",
    "\n",
    "match_score_probabilities = simulate_points(\n",
    "    normal_model, home_team, away_team\n",
    ")\n",
    "\n",
    "fig, ax = plt.subplots()\n",
    "fig.set_size_inches(20.5, 10.5)\n",
    "\n",
    "# plot our boxplot and\n",
    "ax = sns.heatmap(match_score_probabilities, annot=True, cmap=\"YlGn\")\n",
    "\n",
    "# Hide the right and top spines\n",
    "ax.spines['right'].set_visible(False)\n",
    "ax.spines['top'].set_visible(False)\n",
    "\n",
    "# set and format titles\n",
    "ax.set_title(f\"{home_team} v {away_team} point predictions\", fontdict={'fontsize':18, 'fontweight':'bold'})\n",
    "ax.set_xlabel(f\"{away_team} points\", fontdict={'fontsize':15, 'fontweight':'bold'})\n",
    "ax.set_ylabel(f\"{home_team} points\", fontdict={'fontsize':15, 'fontweight':'bold'})\n",
    "ax.set_xticklabels(ax.get_xticklabels(), size=14)\n",
    "ax.invert_yaxis()\n",
    "\n",
    "labels = [\n",
    "    '0 to 5', '5 to 10', '10 to 15', '15 to 20', '20 to 25'\n",
    "]\n",
    "ax.set_xticklabels(labels)\n",
    "ax.set_yticklabels(labels)\n",
    "\n",
    "plt.savefig('visuals/sample_point_predictions.png')\n",
    "fig.show()"
   ]
  },
  {
   "cell_type": "markdown",
   "metadata": {},
   "source": [
    "## Simulating goals \n",
    "\n",
    "Since we are not dealing with a continuous distribution, calculating goal probabilities is actually a lot more straight forward. We simply calculate the expected goals for a team against a given opponent (as described in section 5), and plug this value into the poisson formula from section 4 to iteratively calculate the probability of a team scoring 𝑥x goals in the match.\n",
    "\n",
    "Similarly to before, we will create a function simulate_goals that will do this for us and we will plot the results on a heat map."
   ]
  },
  {
   "cell_type": "code",
   "execution_count": 26,
   "metadata": {},
   "outputs": [],
   "source": [
    "def simulate_goals(poisson_model, home_team, away_team, max_goals=5):\n",
    "    # calculate home team expected goals using our poisson regression model\n",
    "    home_team_expected_goals = poisson_model.predict(\n",
    "        pd.DataFrame(data={'team': home_team, 'opponent': away_team, 'at_home':1},index=[1])\n",
    "    )\n",
    "    \n",
    "    # calculate away team expected goals using the same model\n",
    "    away_team_expected_goals = poisson_model.predict(\n",
    "        pd.DataFrame(data={'team': away_team, 'opponent': home_team, 'at_home':0},index=[1])\n",
    "    )\n",
    "    \n",
    "    # now loop through all possible goal combinations and determine the probability of that scoreline\n",
    "    team_goals_prob = [\n",
    "        [poisson.pmf(i, expected_goals) for i in range(0, max_goals+1)] for expected_goals in [\n",
    "            home_team_expected_goals, away_team_expected_goals\n",
    "        ]\n",
    "    ]\n",
    "    \n",
    "    return (np.outer(np.array(team_goals_prob[0]), np.array(team_goals_prob[1])))"
   ]
  },
  {
   "cell_type": "markdown",
   "metadata": {},
   "source": [
    "When we take a look at the output plotted below we can see that Ballymun are potentially in for a big day when they play Maurs, with a relatively high probability of them scoring 2 or more goals while conceding none!"
   ]
  },
  {
   "cell_type": "code",
   "execution_count": 27,
   "metadata": {},
   "outputs": [
    {
     "name": "stderr",
     "output_type": "stream",
     "text": [
      "<ipython-input-27-e6dabe116314>:26: UserWarning: Matplotlib is currently using module://ipykernel.pylab.backend_inline, which is a non-GUI backend, so cannot show the figure.\n",
      "  fig.show()\n"
     ]
    },
    {
     "data": {
      "image/png": "[encoded data removed]",
      "text/plain": [
       "<Figure size 1476x756 with 2 Axes>"
      ]
     },
     "metadata": {
      "needs_background": "light"
     },
     "output_type": "display_data"
    }
   ],
   "source": [
    "home_team = \"Ballymun Kickhams\"\n",
    "away_team = \"St Maurs\"\n",
    "\n",
    "match_score_probabilities = simulate_goals(\n",
    "    poisson_model, home_team, away_team\n",
    ")\n",
    "\n",
    "fig, ax = plt.subplots()\n",
    "fig.set_size_inches(20.5, 10.5)\n",
    "\n",
    "# plot our boxplot and\n",
    "ax = sns.heatmap(match_score_probabilities, annot=True, cmap=\"YlGn\")\n",
    "\n",
    "# Hide the right and top spines\n",
    "ax.spines['right'].set_visible(False)\n",
    "ax.spines['top'].set_visible(False)\n",
    "\n",
    "# set and format titles\n",
    "ax.set_title(f\"{home_team} v {away_team} goal predictions\", fontdict={'fontsize':18, 'fontweight':'bold'})\n",
    "ax.set_xlabel(f\"{away_team} goals\", fontdict={'fontsize':15, 'fontweight':'bold'})\n",
    "ax.set_ylabel(f\"{home_team} goals\", fontdict={'fontsize':15, 'fontweight':'bold'})\n",
    "ax.set_xticklabels(ax.get_xticklabels(), size=14)\n",
    "ax.invert_yaxis()\n",
    "\n",
    "plt.savefig('visuals/sample_goal_predictions.png')\n",
    "fig.show()"
   ]
  },
  {
   "cell_type": "markdown",
   "metadata": {},
   "source": [
    "## Simulate full match "
   ]
  },
  {
   "cell_type": "markdown",
   "metadata": {},
   "source": [
    "For the purposes of simplifying this tutorial, let us assume that scoring a point and scoring a goal are independant events (i.e. scoring a point has no influence on you scoring a goal and vice versa). \n",
    "\n",
    "With this assumption we can very easily calculate the probability of a team scoring $x$ goals and $y$ points in a game as:\n",
    "\n",
    "$$P(goals = x \\cap points = y) = P(goals = x) * P(points = y)$$\n",
    "\n",
    "With this information we can simulate all possible outcomes for a match between two teams and calculate the probability of either team winning. We will do this by:\n",
    "\n",
    "1. Determine the expected goals and points for each team in the match\n",
    "2. iterate over all possible goal and point combinations (within reason) and determine the probabilities of those for both teams\n",
    "3. Convert these goal and point combinations into total points (i.e. total points = 3*goals + points) \n",
    "4. For each total point possibility determine the probability of the team achieving that total (e.g. the probability of scoring 3 total points is the probability of scoring 1 goal and 0 points + the probability of scoring 0 goals and 3 points)\n",
    "5. Create an NxN probability matrix of all possible outcomes\n",
    "6. Determine probability of home team winning by summing everything below the diagonal\n",
    "7. Determine the probability of a draw by summing the diagonal\n",
    "8. Determine probability of away team winning by summing everything above the diagonal.\n",
    "\n",
    "We can wrap the above up in a function which will take two team names and determine the probability of either team winning the match."
   ]
  },
  {
   "cell_type": "code",
   "execution_count": 28,
   "metadata": {},
   "outputs": [],
   "source": [
    "def get_team_expected_goals(team, opponent, at_home, goals_model=poisson_model):\n",
    "    \n",
    "    team_expected_goals = goals_model.predict(\n",
    "        pd.DataFrame(data={'team': team, 'opponent': away_team, 'at_home':at_home},index=[0])\n",
    "    ).iloc[0]\n",
    "    \n",
    "    return team_expected_goals"
   ]
  },
  {
   "cell_type": "code",
   "execution_count": 29,
   "metadata": {},
   "outputs": [],
   "source": [
    "def get_team_expected_points(team, opponent, at_home, points_model=normal_model):\n",
    "    \n",
    "    # calculate home team expected points and standard error using the normal model\n",
    "    team_expected_points = points_model.predict(\n",
    "        pd.DataFrame(data={'team': team, 'opponent': opponent, 'at_home': at_home},index=[1])\n",
    "    ).iloc[0]\n",
    "    team_se = points_model.get_prediction(\n",
    "        pd.DataFrame(data={'team': team, 'opponent': opponent, 'at_home': at_home},index=[1])\n",
    "    ).se_mean[0]\n",
    "    \n",
    "    return (team_expected_points, team_se)"
   ]
  },
  {
   "cell_type": "code",
   "execution_count": 30,
   "metadata": {},
   "outputs": [],
   "source": [
    "def simulate_match(home_team, away_team, max_goals=10, max_points=35):\n",
    "    \n",
    "    # Step 1:\n",
    "    home_team_expected_goals = get_team_expected_goals(home_team, away_team, 1)\n",
    "    home_team_expected_points = get_team_expected_points(home_team, away_team, 1)\n",
    "    home_team_expectation = {\n",
    "        'team': home_team, 'expected_goals': home_team_expected_goals, 'expected_points': home_team_expected_points\n",
    "    }\n",
    "    \n",
    "    away_team_expected_goals = get_team_expected_goals(away_team, home_team, 0)\n",
    "    away_team_expected_points = get_team_expected_points(away_team, home_team, 0)\n",
    "    away_team_expectation = {\n",
    "        'team': away_team, 'expected_goals': away_team_expected_goals, 'expected_points': away_team_expected_points\n",
    "    }    \n",
    "\n",
    "    # Step 2:\n",
    "    # loop through all goal and point combinations and determne probability and winner\n",
    "    simulation_df = pd.DataFrame()\n",
    "    index=0\n",
    "    for expectation in [home_team_expectation, away_team_expectation]:\n",
    "        for goal in range(max_goals+1):\n",
    "            goal_prob = poisson.pmf(goal, expectation['expected_goals'])\n",
    "            for point in range(max_points+1):\n",
    "                # remember we cant predict exact numbers usng \n",
    "                probabiltity_more_than = norm(expectation['expected_points'][0], expectation['expected_points'][1]).cdf(point-0.5)\n",
    "                probabiltity_less_than = norm(expectation['expected_points'][0], expectation['expected_points'][1]).cdf(point+0.5)\n",
    "                point_prob = probabiltity_less_than - probabiltity_more_than\n",
    "                \n",
    "                scoreline_dict = {\n",
    "                    'team': expectation['team'],\n",
    "                    'goal': goal,\n",
    "                    'goal_prob': goal_prob,\n",
    "                    'point': point,\n",
    "                    'point_prob': point_prob,\n",
    "                    'total_score': (goal*3) + point,\n",
    "                    'total_prob': goal_prob * point_prob\n",
    "                }\n",
    "                \n",
    "                simulation_df = simulation_df.append(pd.DataFrame(scoreline_dict, index=[index]))\n",
    "                index+=1\n",
    "    # Step 3:           \n",
    "    # now lets aggregate up to team and total score level\n",
    "    # since a team can achieve a total score multiple ways, the probability of achieveing that score\n",
    "    # is the sum of the probabilities of those ways\n",
    "    simulation_df = simulation_df.groupby(['team', 'total_score'])['total_prob'].sum().reset_index()\n",
    "    \n",
    "    # Steph 4\n",
    "    # now lets create an n x n matrix of score probabilities\n",
    "    home_team_probs = np.array(\n",
    "       simulation_df.loc[simulation_df['team']==home_team].sort_values(by='total_score')['total_prob']\n",
    "    )\n",
    "\n",
    "    away_team_probs = np.array(\n",
    "        simulation_df.loc[simulation_df['team']==away_team].sort_values(by='total_score')['total_prob']\n",
    "    )\n",
    "    \n",
    "    # Step 5\n",
    "    # here is the nxn\n",
    "    result_probs = np.outer(home_team_probs, away_team_probs)\n",
    "    # now we can get win probabilities by looking:\n",
    "    #     - anything left of diagonal implies home team win\n",
    "    #     - along diagonal ipmplies draw\n",
    "    #     - right of diagonal implies away team win\n",
    "    \n",
    "    # Step 6, 7, & 8\n",
    "    return {\n",
    "        'home_team': home_team,\n",
    "        'away_team': away_team,\n",
    "        'home_team_win_prob': np.sum(np.tril(result_probs, -1)),\n",
    "        'draw_prob': np.sum(np.diag(result_probs)),\n",
    "        'away_team_win_prob': np.sum(np.triu(result_probs, 1))\n",
    "    }"
   ]
  },
  {
   "cell_type": "markdown",
   "metadata": {},
   "source": [
    "Running the function defined above across a number of matches, as demonstrated below, will give us the probability each team has of winning based on all possible outcomes."
   ]
  },
  {
   "cell_type": "code",
   "execution_count": 31,
   "metadata": {},
   "outputs": [
    {
     "name": "stdout",
     "output_type": "stream",
     "text": [
      "Ballymun Kickhams v Skerries Harps\n",
      "Probability of Ballymun Kickhams win: 0.89\n",
      "Probability of draw: 0.03\n",
      "Probability of Skerries Harps win: 0.09\n",
      "\n",
      "\n",
      "St Judes v Kilmacud Crokes\n",
      "Probability of St Judes win: 0.52\n",
      "Probability of draw: 0.06\n",
      "Probability of Kilmacud Crokes win: 0.42\n",
      "\n",
      "\n",
      "Ballinteer St Johns v St Vincents\n",
      "Probability of Ballinteer St Johns win: 0.32\n",
      "Probability of draw: 0.05\n",
      "Probability of St Vincents win: 0.63\n",
      "\n",
      "\n",
      "Fingallians v Ballyboden St Endas\n",
      "Probability of Fingallians win: 0.06\n",
      "Probability of draw: 0.02\n",
      "Probability of Ballyboden St Endas win: 0.91\n",
      "\n",
      "\n",
      "St Maurs v St Oliver Plunketts ER\n",
      "Probability of St Maurs win: 0.61\n",
      "Probability of draw: 0.05\n",
      "Probability of St Oliver Plunketts ER win: 0.34\n",
      "\n",
      "\n"
     ]
    }
   ],
   "source": [
    "matches = [\n",
    "    (\"Ballymun Kickhams\", \"Skerries Harps\"),\n",
    "    (\"St Judes\", \"Kilmacud Crokes\"),\n",
    "    (\"Ballinteer St Johns\", \"St Vincents\"),\n",
    "    (\"Fingallians\", \"Ballyboden St Endas\"),\n",
    "    (\"St Maurs\", \"St Oliver Plunketts ER\"),\n",
    "]\n",
    "\n",
    "for match in matches:\n",
    "    sim_result = simulate_match(match[0], match[1])\n",
    "    print(f\"{match[0]} v {match[1]}\")\n",
    "    print(f\"Probability of {sim_result['home_team']} win: {round(sim_result['home_team_win_prob'], 2)}\")\n",
    "    print(f\"Probability of draw: {round(sim_result['draw_prob'], 2)}\")\n",
    "    print(f\"Probability of {sim_result['away_team']} win: {round(sim_result['away_team_win_prob'], 2)}\\n\\n\")"
   ]
  },
  {
   "cell_type": "markdown",
   "metadata": {},
   "source": [
    "# Closing thoughts\n",
    "\n",
    "While this tutorial focused on the domain of Gaelic football, the methodology described can be applied across a number of sports and I would encourage readers to build their own models for other sports. For example, you could build a poisson model to simulate soccer matches, a normal model to simulate basketball matches, or if you want more practice combining both models you could scrape some hurling data and build a model for hurling.\n",
    "\n",
    "If the data is available for your chosen sport, I would encourage you to explore the idea of including additional predictors in your linear models such as average possession per game or number of passes per game per team as these could improve model results. If you are focusing on this dataset, you may try excluding the `at_home` variable (which isn't statistically significant) and see how different the predictions are."
   ]
  },
  {
   "cell_type": "code",
   "execution_count": null,
   "metadata": {},
   "outputs": [],
   "source": []
  }
 ],
 "metadata": {
  "kernelspec": {
   "display_name": "Python 3",
   "language": "python",
   "name": "python3"
  },
  "language_info": {
   "codemirror_mode": {
    "name": "ipython",
    "version": 3
   },
   "file_extension": ".py",
   "mimetype": "text/x-python",
   "name": "python",
   "nbconvert_exporter": "python",
   "pygments_lexer": "ipython3",
   "version": "3.8.3"
  },
  "toc": {
   "base_numbering": 1,
   "nav_menu": {},
   "number_sections": true,
   "sideBar": true,
   "skip_h1_title": false,
   "title_cell": "Table of Contents",
   "title_sidebar": "Contents",
   "toc_cell": false,
   "toc_position": {},
   "toc_section_display": true,
   "toc_window_display": true
  }
 },
 "nbformat": 4,
 "nbformat_minor": 4
}
