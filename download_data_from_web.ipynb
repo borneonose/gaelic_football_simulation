{
 "cells": [
  {
   "cell_type": "code",
   "execution_count": 78,
   "metadata": {},
   "outputs": [],
   "source": [
    "#! pip3 install beautifulsoup4\n",
    "\n",
    "import requests\n",
    "import pandas as pd\n",
    "from bs4 import BeautifulSoup"
   ]
  },
  {
   "cell_type": "markdown",
   "metadata": {},
   "source": [
    "# Download match data in HTML format \n",
    "\n",
    "We will loop through all pages containing result data for league we are interested in. For each page we will find the result daa which ae contained wihtin the class `row_fixutre_row` and an `<a>` tag. We will save each row;s HTML to a list"
   ]
  },
  {
   "cell_type": "code",
   "execution_count": 41,
   "metadata": {},
   "outputs": [
    {
     "name": "stdout",
     "output_type": "stream",
     "text": [
      "Done!\n"
     ]
    }
   ],
   "source": [
    "# need to set up a user agent so we don't get a forbidden message when we try to scrape\n",
    "agent = {\"User-Agent\":'Mozilla/5.0 (Windows NT 6.3; WOW64) AppleWebKit/537.36 (KHTML, like Gecko) Chrome/59.0.3071.115 Safari/537.36'}\n",
    "\n",
    "# will store the results here\n",
    "matches_html = []\n",
    "\n",
    "# pages with results\n",
    "urls = [\n",
    "    \"https://www.dublingaa.ie/competitions/results/136273#focus\"\n",
    "    \"https://www.dublingaa.ie/competitions/results/136273/P100#focus\"\n",
    "]\n",
    "\n",
    "for url in urls:\n",
    "    # get the page\n",
    "    response = requests.get(url, headers=agent)\n",
    "    # parse html response for rows caontaining match data\n",
    "    soup = BeautifulSoup(response.text, \"html.parser\")\n",
    "    match_reports = soup.findAll(\"a\", {\"class\": \"row fixture_row\"})\n",
    "    \n",
    "    matches_html = matches_html + match_reports\n",
    "    \n",
    "print(\"Done!\")"
   ]
  },
  {
   "cell_type": "markdown",
   "metadata": {},
   "source": [
    "# Parse required fields from HTML and store as dictionary \n",
    "\n",
    "Next we will loop through our HTML rows and pull out the required information. We will store this data in a list of disctionaries."
   ]
  },
  {
   "cell_type": "code",
   "execution_count": 83,
   "metadata": {},
   "outputs": [
    {
     "name": "stdout",
     "output_type": "stream",
     "text": [
      "Done!\n"
     ]
    }
   ],
   "source": [
    "# list we will use to store parsed match results\n",
    "results_data = []\n",
    "\n",
    "# iterate through each match html\n",
    "for match in matches_html:\n",
    "    children = match.findChildren(\"div\")\n",
    "    \n",
    "    # skip any matches which didn't take place\n",
    "    if children[4].text.strip() != \"W/O\":\n",
    "        # need to do some preprocessing on scorline text to split into goals and points\n",
    "        home_team_score = children[4].text.strip().split('-')\n",
    "        away_team_score = children[6].text.strip().split('-')\n",
    "\n",
    "        # add the cleaned data to our list as a dict\n",
    "        results_data.append(\n",
    "            {\n",
    "                'date': children[0].text.strip(),\n",
    "                'time': children[1].text.strip(),\n",
    "                'location': children[2].text.strip(),\n",
    "                'home_team': children[3].text.strip(),\n",
    "                'home_team_goals': int(home_team_score[0]),\n",
    "                'home_team_points': int(home_team_score[1]),\n",
    "                'away_team':children[7].text.strip(),\n",
    "                'away_team_goals': int(away_team_score[0]),\n",
    "                'away_team_points': int(away_team_score[1]),\n",
    "\n",
    "            }\n",
    "        )\n",
    "    \n",
    "print(\"Done!\")"
   ]
  },
  {
   "cell_type": "markdown",
   "metadata": {},
   "source": [
    "# Convert to dataframe and save locally as pickle \n",
    "\n",
    "Finally we will convert this list of dictionaries to a dataframe and save it locally as a pickle."
   ]
  },
  {
   "cell_type": "code",
   "execution_count": 84,
   "metadata": {},
   "outputs": [
    {
     "data": {
      "text/html": [
       "<div>\n",
       "<style scoped>\n",
       "    .dataframe tbody tr th:only-of-type {\n",
       "        vertical-align: middle;\n",
       "    }\n",
       "\n",
       "    .dataframe tbody tr th {\n",
       "        vertical-align: top;\n",
       "    }\n",
       "\n",
       "    .dataframe thead th {\n",
       "        text-align: right;\n",
       "    }\n",
       "</style>\n",
       "<table border=\"1\" class=\"dataframe\">\n",
       "  <thead>\n",
       "    <tr style=\"text-align: right;\">\n",
       "      <th></th>\n",
       "      <th>date</th>\n",
       "      <th>time</th>\n",
       "      <th>location</th>\n",
       "      <th>home_team</th>\n",
       "      <th>home_team_goals</th>\n",
       "      <th>home_team_points</th>\n",
       "      <th>away_team</th>\n",
       "      <th>away_team_goals</th>\n",
       "      <th>away_team_points</th>\n",
       "    </tr>\n",
       "  </thead>\n",
       "  <tbody>\n",
       "    <tr>\n",
       "      <th>0</th>\n",
       "      <td>09 Nov</td>\n",
       "      <td>14:00</td>\n",
       "      <td>Martin Savage Park</td>\n",
       "      <td>St Oliver Plunketts ER</td>\n",
       "      <td>3</td>\n",
       "      <td>13</td>\n",
       "      <td>Templeogue Synge Street</td>\n",
       "      <td>1</td>\n",
       "      <td>9</td>\n",
       "    </tr>\n",
       "    <tr>\n",
       "      <th>1</th>\n",
       "      <td>23 Oct</td>\n",
       "      <td>19:30</td>\n",
       "      <td>Lawless Park</td>\n",
       "      <td>Fingallians</td>\n",
       "      <td>3</td>\n",
       "      <td>19</td>\n",
       "      <td>Na Fianna</td>\n",
       "      <td>3</td>\n",
       "      <td>15</td>\n",
       "    </tr>\n",
       "    <tr>\n",
       "      <th>2</th>\n",
       "      <td>19 Oct</td>\n",
       "      <td>16:00</td>\n",
       "      <td>Dolphin Park</td>\n",
       "      <td>Templeogue Synge Street</td>\n",
       "      <td>1</td>\n",
       "      <td>12</td>\n",
       "      <td>Cuala</td>\n",
       "      <td>4</td>\n",
       "      <td>14</td>\n",
       "    </tr>\n",
       "    <tr>\n",
       "      <th>3</th>\n",
       "      <td>19 Oct</td>\n",
       "      <td>16:00</td>\n",
       "      <td>St Mobhi Road</td>\n",
       "      <td>Na Fianna</td>\n",
       "      <td>0</td>\n",
       "      <td>9</td>\n",
       "      <td>St Oliver Plunketts ER</td>\n",
       "      <td>1</td>\n",
       "      <td>12</td>\n",
       "    </tr>\n",
       "    <tr>\n",
       "      <th>4</th>\n",
       "      <td>05 Oct</td>\n",
       "      <td>16:00</td>\n",
       "      <td>Hyde Park</td>\n",
       "      <td>Cuala</td>\n",
       "      <td>7</td>\n",
       "      <td>11</td>\n",
       "      <td>St Maurs</td>\n",
       "      <td>1</td>\n",
       "      <td>5</td>\n",
       "    </tr>\n",
       "  </tbody>\n",
       "</table>\n",
       "</div>"
      ],
      "text/plain": [
       "     date   time            location                home_team  \\\n",
       "0  09 Nov  14:00  Martin Savage Park   St Oliver Plunketts ER   \n",
       "1  23 Oct  19:30        Lawless Park              Fingallians   \n",
       "2  19 Oct  16:00        Dolphin Park  Templeogue Synge Street   \n",
       "3  19 Oct  16:00       St Mobhi Road                Na Fianna   \n",
       "4  05 Oct  16:00           Hyde Park                    Cuala   \n",
       "\n",
       "   home_team_goals  home_team_points                away_team  \\\n",
       "0                3                13  Templeogue Synge Street   \n",
       "1                3                19                Na Fianna   \n",
       "2                1                12                    Cuala   \n",
       "3                0                 9   St Oliver Plunketts ER   \n",
       "4                7                11                 St Maurs   \n",
       "\n",
       "   away_team_goals  away_team_points  \n",
       "0                1                 9  \n",
       "1                3                15  \n",
       "2                4                14  \n",
       "3                1                12  \n",
       "4                1                 5  "
      ]
     },
     "execution_count": 84,
     "metadata": {},
     "output_type": "execute_result"
    }
   ],
   "source": [
    "gaa_df = pd.DataFrame(results_data)\n",
    "gaa_df.to_pickle(\"data/dublin_gaa_results.pkl\")\n",
    "gaa_df.head()"
   ]
  },
  {
   "cell_type": "code",
   "execution_count": null,
   "metadata": {},
   "outputs": [],
   "source": []
  }
 ],
 "metadata": {
  "kernelspec": {
   "display_name": "Python 3",
   "language": "python",
   "name": "python3"
  },
  "language_info": {
   "codemirror_mode": {
    "name": "ipython",
    "version": 3
   },
   "file_extension": ".py",
   "mimetype": "text/x-python",
   "name": "python",
   "nbconvert_exporter": "python",
   "pygments_lexer": "ipython3",
   "version": "3.8.3"
  },
  "toc": {
   "base_numbering": 1,
   "nav_menu": {},
   "number_sections": true,
   "sideBar": true,
   "skip_h1_title": false,
   "title_cell": "Table of Contents",
   "title_sidebar": "Contents",
   "toc_cell": false,
   "toc_position": {},
   "toc_section_display": true,
   "toc_window_display": false
  }
 },
 "nbformat": 4,
 "nbformat_minor": 4
}
